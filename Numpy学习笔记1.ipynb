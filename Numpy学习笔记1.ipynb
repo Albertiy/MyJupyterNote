{
 "cells": [
  {
   "cell_type": "markdown",
   "id": "85527326",
   "metadata": {},
   "source": [
    "### 测试NumPy是否安装成功："
   ]
  },
  {
   "cell_type": "code",
   "execution_count": 1,
   "id": "7d55ea0d",
   "metadata": {
    "scrolled": true
   },
   "outputs": [
    {
     "data": {
      "text/plain": [
       "array([[1., 0., 0., 0.],\n",
       "       [0., 1., 0., 0.],\n",
       "       [0., 0., 1., 0.],\n",
       "       [0., 0., 0., 1.]])"
      ]
     },
     "execution_count": 1,
     "metadata": {},
     "output_type": "execute_result"
    }
   ],
   "source": [
    "from numpy import *\n",
    "eye(4)"
   ]
  },
  {
   "cell_type": "markdown",
   "id": "5798c1d2",
   "metadata": {},
   "source": [
    "# NumPy Ndarray 对象\n",
    "\n",
    "N维数组对象 ndarray，一系列<b>同类型</b>数据的集合，以 0 为下标开始进行集合中元素的索引。每个元素在内存中有相同存储大小的区域。\n",
    "\n",
    "内部组成：\n",
    "* 一个指向数据（内存或内存映射文件中一块数据）的指针。\n",
    "* 数据类型或dtype，描述在数组中的固定大小值的格子。\n",
    "* 一个表示数组形状（shape）的元组，表示各维度大小的元组。\n",
    "* 一个跨度元组（stride），其中的整数是为了前进到当前维度下一个元素需要“跨过”的字节数。\n"
   ]
  },
  {
   "cell_type": "code",
   "execution_count": null,
   "id": "a2d8221a",
   "metadata": {},
   "outputs": [],
   "source": []
  },
  {
   "cell_type": "code",
   "execution_count": null,
   "id": "ac782c03",
   "metadata": {},
   "outputs": [],
   "source": []
  },
  {
   "cell_type": "code",
   "execution_count": null,
   "id": "94c21759",
   "metadata": {},
   "outputs": [],
   "source": []
  }
 ],
 "metadata": {
  "kernelspec": {
   "display_name": "LearnNumpy",
   "language": "python",
   "name": "learn_numpy"
  },
  "language_info": {
   "codemirror_mode": {
    "name": "ipython",
    "version": 3
   },
   "file_extension": ".py",
   "mimetype": "text/x-python",
   "name": "python",
   "nbconvert_exporter": "python",
   "pygments_lexer": "ipython3",
   "version": "3.9.7"
  }
 },
 "nbformat": 4,
 "nbformat_minor": 5
}
