{
 "cells": [
  {
   "cell_type": "markdown",
   "id": "85527326",
   "metadata": {},
   "source": [
    "### 测试NumPy是否安装成功："
   ]
  },
  {
   "cell_type": "code",
   "execution_count": 1,
   "id": "7d55ea0d",
   "metadata": {
    "scrolled": false
   },
   "outputs": [
    {
     "data": {
      "text/plain": [
       "array([[1., 0., 0., 0.],\n",
       "       [0., 1., 0., 0.],\n",
       "       [0., 0., 1., 0.],\n",
       "       [0., 0., 0., 1.]])"
      ]
     },
     "execution_count": 1,
     "metadata": {},
     "output_type": "execute_result"
    }
   ],
   "source": [
    "from numpy import *\n",
    "eye(4)"
   ]
  },
  {
   "cell_type": "markdown",
   "id": "5798c1d2",
   "metadata": {},
   "source": [
    "# NumPy Ndarray 对象\n",
    "\n",
    "N维数组对象 ndarray，一系列<b>同类型</b>数据的集合，以 0 为下标开始进行集合中元素的索引。每个元素在内存中有相同存储大小的区域。\n",
    "\n",
    "内部组成：\n",
    "* 一个指向数据（内存或内存映射文件中一块数据）的指针。\n",
    "* 数据类型或dtype，描述在数组中的固定大小值的格子。\n",
    "* 一个表示数组形状（shape）的元组，表示各维度大小的元组。\n",
    "* 一个跨度元组（stride），其中的整数是为了前进到当前维度下一个元素需要“跨过”的字节数。\n",
    "\n",
    "<img src=\"https://www.runoob.com/wp-content/uploads/2018/10/ndarray.png\">\n",
    "\n",
    "跨度可以是负数，这样使得数组在内存中后向移动，切片中 obj[::-1] 或 obj[:,::-1]。\n",
    "\n",
    "创建一个 ndarray只需调用 NumPy 的 array函数：\n",
    "\n",
    "```py\n",
    "numpy.array(object, dtype=None, copy=True, order=None, subok=False, ndmin=0)\n",
    "```\n",
    "\n",
    "|参数|说明|\n",
    "|:----:|:----|\n",
    "|object|数组或嵌套的数列|\n",
    "|dtype|数组元素的数据类型，可选|\n",
    "|copy|对象是否需要复制，可选|\n",
    "|order|创建数组的样式，C为行方向，F为列方向，A为任意方向（默认）|\n",
    "|subok|默认返回一个与基类类型一致的数组|\n",
    "|ndmin|指定生成数组的最小维度|"
   ]
  },
  {
   "cell_type": "code",
   "execution_count": 2,
   "id": "909f6217",
   "metadata": {},
   "outputs": [
    {
     "name": "stdout",
     "output_type": "stream",
     "text": [
      "[1 2 3]\n"
     ]
    }
   ],
   "source": [
    "import numpy as np\n",
    "a = np.array([1,2,3])\n",
    "print(a)"
   ]
  },
  {
   "cell_type": "code",
   "execution_count": 4,
   "id": "a2d8221a",
   "metadata": {},
   "outputs": [
    {
     "name": "stdout",
     "output_type": "stream",
     "text": [
      "[[1 2]\n",
      " [3 4]]\n"
     ]
    }
   ],
   "source": [
    "# 多于一个维度\n",
    "a = np.array([[1,2],[3,4]])\n",
    "print(a)"
   ]
  },
  {
   "cell_type": "code",
   "execution_count": 6,
   "id": "ac782c03",
   "metadata": {},
   "outputs": [
    {
     "name": "stdout",
     "output_type": "stream",
     "text": [
      "[[1 2 3 4 5]]\n"
     ]
    }
   ],
   "source": [
    "# 最小维度\n",
    "a = np.array([1,2,3,4,5], ndmin=2)\n",
    "print(a)"
   ]
  },
  {
   "cell_type": "code",
   "execution_count": 4,
   "id": "94c21759",
   "metadata": {},
   "outputs": [
    {
     "name": "stdout",
     "output_type": "stream",
     "text": [
      "[1.+0.j 2.+0.j 3.+0.j]\n"
     ]
    }
   ],
   "source": [
    "# dtype参数\n",
    "a = np.array([1,2,3], dtype=complex)\n",
    "print(a) # 为什么不是i而是j？因为是按照电气工程师约定：i表示电流，j表示-1的平方根"
   ]
  }
 ],
 "metadata": {
  "kernelspec": {
   "display_name": "LearnNumpy",
   "language": "python",
   "name": "learn_numpy"
  },
  "language_info": {
   "codemirror_mode": {
    "name": "ipython",
    "version": 3
   },
   "file_extension": ".py",
   "mimetype": "text/x-python",
   "name": "python",
   "nbconvert_exporter": "python",
   "pygments_lexer": "ipython3",
   "version": "3.9.7"
  }
 },
 "nbformat": 4,
 "nbformat_minor": 5
}
