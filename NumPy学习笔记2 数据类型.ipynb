{
 "cells": [
  {
   "cell_type": "markdown",
   "id": "ee78925d",
   "metadata": {},
   "source": [
    "# NumPy 数据类型\n",
    "\n",
    "numpy支持类型比python内置要多，可与C语言类型对应，部分对应python内置类型。\n",
    "\n",
    "常用基本类型：\n",
    "\n",
    "|名称|描述|\n",
    "|:----:|:----|\n",
    "|bool_|布尔型|\n",
    "|int_|默认整型（类似C语言long、int32或int64）|\n",
    "|intc|对应C语言int类型，一般是int32或int64|\n",
    "|intp|索引整数类型（类似C的ssize_t，一般情况下仍然是int32或int64）|\n",
    "|int8|字节（-128 to 127）|\n",
    "|int16|整数（-32768 to 32767）|\n",
    "|int32|整数|\n",
    "|int64|整数|\n",
    "|uint8|无符号整数（0 to 255）|\n",
    "|uint16|无符号整数（0 to 65535）|\n",
    "|uint32、uint64|。。。|\n",
    "|float_|float64类型的简写|\n",
    "|float16|半精度浮点数：1个符号位，5个指数位，10个尾数位|\n",
    "|float32|单精度浮点数：1个符号位，8个指数位，23个尾数位|\n",
    "|float64|双精度浮点数：1个符号位，11个指数位，52个尾数位|\n",
    "|complex_|complex128的简写，128位的复数|\n",
    "|complex64|复数，双32位浮点数（实数和虚数部分）|\n",
    "|complex128|复数，双64位浮点数（实数和虚数部分）|\n",
    "\n",
    "numpy 数值类型实际上是 dtype 对象的实例，并对应唯一字符，包括 np.bool_，np.int32，np.float32 等等。"
   ]
  },
  {
   "cell_type": "markdown",
   "id": "2311bbca",
   "metadata": {},
   "source": [
    "# 数据类型对象（dtype）\n",
    "\n",
    "numpy.dtype 类的实例，用来描述与数组对应的内存区域是如何使用，描述了数据的以下几个方面：\n",
    "* 数据的类型\n",
    "* 数据的大小（存储字节数）\n",
    "* 数据的字节顺序（小端或大端）\n",
    "* 结构化类型的字段名称、字段的数据类型、每个字段所取内存块的部分\n",
    "* 若数据类型是子数组，它的形状和数据类型\n",
    "\n",
    "字节顺序：由预先设定的 < 和 > 决定。\n",
    "\n",
    "* < 意味着小端法（最小值存储在最小地址，即低位组放在最前面）。\n",
    "\n",
    "* \\> 意味着大端法（最重要的字节存储在最小的地址，即高位组放在最前面）。\n",
    "\n",
    "构造函数：\n",
    "\n",
    "numpy.dtype(object, align, copy)\n",
    "\n",
    "* object - 要转换为的数据类型对象\n",
    "* align - 若为 true，填充字段使其类似C的结构体\n",
    "* copy - 复制 dtype 对象，若为 false，则是对内置数据类型对象的引用\n",
    "\n"
   ]
  },
  {
   "cell_type": "code",
   "execution_count": 4,
   "id": "cebcdfa8",
   "metadata": {},
   "outputs": [
    {
     "name": "stdout",
     "output_type": "stream",
     "text": [
      "int32\n"
     ]
    }
   ],
   "source": [
    "import numpy as np\n",
    "# 使用标量类型\n",
    "dt = np.dtype(np.int32)\n",
    "print(dt)"
   ]
  },
  {
   "cell_type": "code",
   "execution_count": 6,
   "id": "e46eb0ef",
   "metadata": {},
   "outputs": [
    {
     "name": "stdout",
     "output_type": "stream",
     "text": [
      "int32\n"
     ]
    }
   ],
   "source": [
    "# int8 对应 i1,int16 对应 i2，以此类推\n",
    "dt = np.dtype('i4')\n",
    "print(dt)"
   ]
  },
  {
   "cell_type": "code",
   "execution_count": 8,
   "id": "4ad58bbb",
   "metadata": {},
   "outputs": [
    {
     "name": "stdout",
     "output_type": "stream",
     "text": [
      "int32\n"
     ]
    }
   ],
   "source": [
    "# 标注字节顺序\n",
    "dt = np.dtype('<i4')\n",
    "print(dt)"
   ]
  },
  {
   "cell_type": "markdown",
   "id": "f4c975e6",
   "metadata": {},
   "source": [
    "结构化数据类型的使用，类型字段和对应的实际类型将被创建："
   ]
  },
  {
   "cell_type": "code",
   "execution_count": 9,
   "id": "cb8536da",
   "metadata": {},
   "outputs": [
    {
     "name": "stdout",
     "output_type": "stream",
     "text": [
      "[('age', 'i1')]\n"
     ]
    }
   ],
   "source": [
    "# 首先创建结构化数据类型\n",
    "dt = np.dtype([('age', np.int8)])\n",
    "print(dt)"
   ]
  },
  {
   "cell_type": "code",
   "execution_count": 11,
   "id": "8bae1e31",
   "metadata": {},
   "outputs": [
    {
     "name": "stdout",
     "output_type": "stream",
     "text": [
      "[(10,) (20,) (30,)]\n"
     ]
    }
   ],
   "source": [
    "# 数据类型应用于 ndarray 对象\n",
    "a = np.array([(10,),(20,),(30,)], dtype = dt)\n",
    "print(a)"
   ]
  },
  {
   "cell_type": "code",
   "execution_count": 15,
   "id": "73e4630f",
   "metadata": {},
   "outputs": [
    {
     "name": "stdout",
     "output_type": "stream",
     "text": [
      "[10 20 30]\n"
     ]
    }
   ],
   "source": [
    "# 类型字段名用于存取实际的age列\n",
    "print(a['age'])"
   ]
  },
  {
   "cell_type": "markdown",
   "id": "3c723d2b",
   "metadata": {},
   "source": [
    "定义一个结构化数据类型student，包含字符串name，整数字段age，浮点字段marks，并将此dtype应用到ndarray对象。\n"
   ]
  },
  {
   "cell_type": "code",
   "execution_count": 17,
   "id": "99ea1132",
   "metadata": {},
   "outputs": [
    {
     "name": "stdout",
     "output_type": "stream",
     "text": [
      "[('name', 'S20'), ('age', 'i1'), ('marks', '<f4')]\n"
     ]
    }
   ],
   "source": [
    "student = np.dtype([('name','S20'),('age','i1'),('marks','f4')])\n",
    "print(student)"
   ]
  },
  {
   "cell_type": "code",
   "execution_count": 18,
   "id": "4267c853",
   "metadata": {},
   "outputs": [
    {
     "name": "stdout",
     "output_type": "stream",
     "text": [
      "[(b'abc', 21, 50.) (b'xyz', 18, 75.)]\n"
     ]
    }
   ],
   "source": [
    "a = np.array([('abc',21,50),('xyz',18,75)],dtype=student)\n",
    "print(a)"
   ]
  },
  {
   "cell_type": "markdown",
   "id": "f877493b",
   "metadata": {},
   "source": [
    "内建类型的唯一字符编码：\n",
    "\n",
    "|字符|对应类型|\n",
    "|----|----|\n",
    "|b|布尔型|\n",
    "|i|（有符号）整型|\n",
    "|u|无符号整型|\n",
    "|f|浮点型|\n",
    "|c|复数浮点型|\n",
    "|m|timedelta（时间间隔）|\n",
    "|M|datetime（日期时间）|\n",
    "|O|（Python）对象|\n",
    "|S，a|（byte-）字符串|\n",
    "|U|Unicode|\n",
    "|V|原始数据（void）|"
   ]
  }
 ],
 "metadata": {
  "kernelspec": {
   "display_name": "LearnNumpy",
   "language": "python",
   "name": "learn_numpy"
  },
  "language_info": {
   "codemirror_mode": {
    "name": "ipython",
    "version": 3
   },
   "file_extension": ".py",
   "mimetype": "text/x-python",
   "name": "python",
   "nbconvert_exporter": "python",
   "pygments_lexer": "ipython3",
   "version": "3.9.7"
  }
 },
 "nbformat": 4,
 "nbformat_minor": 5
}
