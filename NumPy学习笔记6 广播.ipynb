{
 "cells": [
  {
   "cell_type": "markdown",
   "id": "b35136bc",
   "metadata": {},
   "source": [
    "# 广播（Broadcast）\n",
    "\n",
    "是 numpy 对不同形状(shape）的数组进行数值计算的方式。对数组的算术运算通常在相应的元素上进行。\n",
    "\n",
    "如果两个数组a和b形状相同（`a.shape==b.shape`），那么 `a*b`结果是a与b数组的对应位相乘。这要求维数相同，且各维度的长度相同。\n",
    "\n"
   ]
  },
  {
   "cell_type": "code",
   "execution_count": 1,
   "id": "a993234e",
   "metadata": {
    "ExecuteTime": {
     "end_time": "2021-10-07T09:49:45.883275Z",
     "start_time": "2021-10-07T09:49:45.864305Z"
    }
   },
   "outputs": [
    {
     "name": "stdout",
     "output_type": "stream",
     "text": [
      "[ 10  40  90 160]\n"
     ]
    }
   ],
   "source": [
    "import numpy as np\n",
    "\n",
    "a = np.array([1,2,3,4])\n",
    "b = np.array([10,20,30,40])\n",
    "c = a * b\n",
    "print(c)"
   ]
  },
  {
   "cell_type": "markdown",
   "id": "ebe40a09",
   "metadata": {},
   "source": [
    "当运算中的两个数组形状不同时，numpy 自动触发广播机制。\n",
    "<img src='https://www.runoob.com/wp-content/uploads/2018/10/image0020619.gif'>"
   ]
  },
  {
   "cell_type": "code",
   "execution_count": 3,
   "id": "b7c15bf1",
   "metadata": {
    "ExecuteTime": {
     "end_time": "2021-10-07T09:57:58.703933Z",
     "start_time": "2021-10-07T09:57:58.687930Z"
    }
   },
   "outputs": [
    {
     "name": "stdout",
     "output_type": "stream",
     "text": [
      "[[ 1  2  3]\n",
      " [11 12 13]\n",
      " [21 22 23]\n",
      " [31 32 33]]\n"
     ]
    }
   ],
   "source": [
    "a = np.array([[0,0,0],[10,10,10],[20,20,20],[30,30,30]])\n",
    "b = np.array([1,2,3]) # 作为一行元素，向列方向广播\n",
    "print(a + b)"
   ]
  },
  {
   "cell_type": "code",
   "execution_count": 5,
   "id": "48163739",
   "metadata": {
    "ExecuteTime": {
     "end_time": "2021-10-07T09:59:16.681742Z",
     "start_time": "2021-10-07T09:59:16.662747Z"
    }
   },
   "outputs": [
    {
     "name": "stdout",
     "output_type": "stream",
     "text": [
      "[[ 1  2  3]\n",
      " [11 12 13]\n",
      " [21 22 23]\n",
      " [31 32 33]]\n"
     ]
    }
   ],
   "source": [
    "a = np.array([[0, 0, 0], [10, 10, 10], [20, 20, 20], [30, 30, 30]])\n",
    "b = np.array([1, 2, 3])\n",
    "bb = np.tile(b, (4, 1))  # 重复 b 的各个维度\n",
    "print(a + bb)"
   ]
  },
  {
   "cell_type": "markdown",
   "id": "6b409d4b",
   "metadata": {},
   "source": [
    "## 广播的规则\n",
    "\n",
    "* 让所有输入数组"
   ]
  }
 ],
 "metadata": {
  "kernelspec": {
   "display_name": "LearnNumpy",
   "language": "python",
   "name": "learn_numpy"
  },
  "language_info": {
   "codemirror_mode": {
    "name": "ipython",
    "version": 3
   },
   "file_extension": ".py",
   "mimetype": "text/x-python",
   "name": "python",
   "nbconvert_exporter": "python",
   "pygments_lexer": "ipython3",
   "version": "3.9.7"
  },
  "toc": {
   "base_numbering": 1,
   "nav_menu": {},
   "number_sections": true,
   "sideBar": true,
   "skip_h1_title": false,
   "title_cell": "Table of Contents",
   "title_sidebar": "Contents",
   "toc_cell": false,
   "toc_position": {
    "height": "calc(100% - 180px)",
    "left": "10px",
    "top": "150px",
    "width": "260.225px"
   },
   "toc_section_display": true,
   "toc_window_display": false
  },
  "varInspector": {
   "cols": {
    "lenName": 16,
    "lenType": 16,
    "lenVar": 40
   },
   "kernels_config": {
    "python": {
     "delete_cmd_postfix": "",
     "delete_cmd_prefix": "del ",
     "library": "var_list.py",
     "varRefreshCmd": "print(var_dic_list())"
    },
    "r": {
     "delete_cmd_postfix": ") ",
     "delete_cmd_prefix": "rm(",
     "library": "var_list.r",
     "varRefreshCmd": "cat(var_dic_list()) "
    }
   },
   "types_to_exclude": [
    "module",
    "function",
    "builtin_function_or_method",
    "instance",
    "_Feature"
   ],
   "window_display": false
  }
 },
 "nbformat": 4,
 "nbformat_minor": 5
}
