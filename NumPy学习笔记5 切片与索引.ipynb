{
 "cells": [
  {
   "cell_type": "markdown",
   "id": "e0b78122",
   "metadata": {},
   "source": [
    "# 切片\n",
    "\n",
    "ndarray对象可通过“索引”或“切片”来访问和修改。与Python中list切片操作一样。"
   ]
  },
  {
   "cell_type": "markdown",
   "id": "90bee964",
   "metadata": {},
   "source": [
    "## slice() 与 冒号分隔切片\n",
    "\n",
    "ndarray数组可基于 0-n 下标进行索引，切片对象可通过内置 slice 函数，并设置 start，stop，step 参数切割出新数组。"
   ]
  },
  {
   "cell_type": "code",
   "execution_count": 4,
   "id": "294ccdf6",
   "metadata": {
    "ExecuteTime": {
     "end_time": "2021-10-07T07:01:29.742645Z",
     "start_time": "2021-10-07T07:01:29.723587Z"
    }
   },
   "outputs": [
    {
     "name": "stdout",
     "output_type": "stream",
     "text": [
      "[10 11 12 13 14 15 16 17 18 19]\n",
      "[12 14 16]\n"
     ]
    }
   ],
   "source": [
    "import numpy as np\n",
    "\n",
    "a = np.arange(10,20)\n",
    "print(a)\n",
    "s = slice(2,7,2) # 从索引 2 开始 到索引 7 停止，间隔为2\n",
    "print(a[s])"
   ]
  },
  {
   "cell_type": "markdown",
   "id": "d67ae7e5",
   "metadata": {},
   "source": [
    "也可以使用冒号分隔切片参数 start:stop:step 进行切片操作：\n",
    "\n",
    "* 只放一个参数 \\[2\\] 表示返回该索引相对应的单个元素（没有括号）；\n",
    "* \\[2:\\] 表示从该索引后所有项都被提取；\n",
    "* \\[2:7\\] 表示提取两个索引之间的项（不包含stop）"
   ]
  },
  {
   "cell_type": "code",
   "execution_count": 7,
   "id": "b1893e7a",
   "metadata": {
    "ExecuteTime": {
     "end_time": "2021-10-07T07:08:04.110412Z",
     "start_time": "2021-10-07T07:08:04.092406Z"
    }
   },
   "outputs": [
    {
     "name": "stdout",
     "output_type": "stream",
     "text": [
      "[2 4 6]\n",
      "5\n",
      "[2 3 4 5 6 7 8 9]\n",
      "[2 3 4]\n"
     ]
    }
   ],
   "source": [
    "a = np.arange(10)\n",
    "b = a[2:7:2]    # 从2到7，间隔2\n",
    "print(b)\n",
    "\n",
    "print(a[5])\n",
    "print(a[2:])\n",
    "print(a[2:5])"
   ]
  },
  {
   "cell_type": "markdown",
   "id": "d69b7cba",
   "metadata": {},
   "source": [
    "## 在多维数组的切片中，使用“,”区分维度。"
   ]
  },
  {
   "cell_type": "code",
   "execution_count": 25,
   "id": "1bfaaf9e",
   "metadata": {
    "ExecuteTime": {
     "end_time": "2021-10-07T08:40:23.739038Z",
     "start_time": "2021-10-07T08:40:23.726038Z"
    }
   },
   "outputs": [
    {
     "name": "stdout",
     "output_type": "stream",
     "text": [
      "[[ 0  1  2  3]\n",
      " [ 4  5  6  7]\n",
      " [ 8  9 10 11]]\n",
      "[[1 2]\n",
      " [5 6]]\n"
     ]
    }
   ],
   "source": [
    "a = np.arange(0,12)\n",
    "a.shape=(3,4)\n",
    "print(a)\n",
    "print(a[0:2, 1:3]) # 下标从0开始，不包括end。"
   ]
  },
  {
   "cell_type": "markdown",
   "id": "44282ca9",
   "metadata": {},
   "source": [
    "## 省略号...选中当前维度的每个元素\n",
    "\n",
    "切片可以包含省略号...，来<b><font color=\"#ff0000\">使选择元组的长度与数组的维度相同</font></b>。若在行位置使用省略号，则将返回包含行中元素的 ndarray。\n",
    "\n",
    "挺难理解的是不是？其实就看省略号在哪个维度上，该维度所有元素都被选中。\n",
    "\n",
    "上一个是一维数组，因此参数是 \\[起点:终点:步长\\]，而且不包含终点。\n",
    "\n",
    "这里是多维数组中的二维数组，若将其当做一维数组，则其各元素视作一个对象。\n",
    "\n",
    "* ...,1 ：则 ... 等于 1，"
   ]
  },
  {
   "cell_type": "code",
   "execution_count": 16,
   "id": "73ecfc6c",
   "metadata": {
    "ExecuteTime": {
     "end_time": "2021-10-07T07:32:20.708223Z",
     "start_time": "2021-10-07T07:32:20.693223Z"
    }
   },
   "outputs": [
    {
     "name": "stdout",
     "output_type": "stream",
     "text": [
      "[[1 2 3]\n",
      " [4 5 6]\n",
      " [7 8 9]]\n",
      "[2 5 8]\n",
      "[4 5 6]\n",
      "[[2 3]\n",
      " [5 6]\n",
      " [8 9]]\n"
     ]
    }
   ],
   "source": [
    "a = np.arange(1,10).reshape((3,3))\n",
    "print(a)\n",
    "print(a[...,1]) # 第2列\n",
    "print(a[1,...]) # 第2行\n",
    "print(a[...,1:]) # 第2列以及剩下所有元素"
   ]
  },
  {
   "cell_type": "markdown",
   "id": "82582d5a",
   "metadata": {
    "ExecuteTime": {
     "end_time": "2021-10-07T07:48:33.471557Z",
     "start_time": "2021-10-07T07:48:33.467586Z"
    }
   },
   "source": [
    "# 高级索引\n",
    "\n",
    "除了之前看到的用整数和切片的索引外，数组可以由整数数组索引、布尔索引及花式索引。"
   ]
  },
  {
   "cell_type": "markdown",
   "id": "35925600",
   "metadata": {
    "ExecuteTime": {
     "end_time": "2021-10-07T07:49:47.998002Z",
     "start_time": "2021-10-07T07:49:47.989002Z"
    }
   },
   "source": [
    "## 整数数组索引"
   ]
  },
  {
   "cell_type": "markdown",
   "id": "90b9dd6b",
   "metadata": {},
   "source": [
    "以下实例获取数组中(0,0)，(1,1)和(2,0)位置处的元素。"
   ]
  },
  {
   "cell_type": "code",
   "execution_count": 21,
   "id": "e05eb63c",
   "metadata": {
    "ExecuteTime": {
     "end_time": "2021-10-07T07:55:46.970340Z",
     "start_time": "2021-10-07T07:55:46.956368Z"
    }
   },
   "outputs": [
    {
     "name": "stdout",
     "output_type": "stream",
     "text": [
      "[1 4 5]\n"
     ]
    }
   ],
   "source": [
    "import numpy as np\n",
    "\n",
    "x = np.array([[1, 2], [3, 4], [5, 6]])  # 3行2列\n",
    "y = x[[0, 1, 2], [0, 1, 0]]  # 切片以分别取得 第0、1、2行的第0、1、0列。\n",
    "print(y)"
   ]
  },
  {
   "cell_type": "markdown",
   "id": "f704449d",
   "metadata": {},
   "source": [
    "获取4x3数组的四个角的元素："
   ]
  },
  {
   "cell_type": "code",
   "execution_count": 22,
   "id": "fa6e834c",
   "metadata": {
    "ExecuteTime": {
     "end_time": "2021-10-07T08:31:00.763893Z",
     "start_time": "2021-10-07T08:31:00.756891Z"
    }
   },
   "outputs": [
    {
     "name": "stdout",
     "output_type": "stream",
     "text": [
      "我们的数组是：\n",
      "[[ 0  1  2]\n",
      " [ 3  4  5]\n",
      " [ 6  7  8]\n",
      " [ 9 10 11]]\n",
      "\n",
      "\n",
      "四角元素为：\n",
      "[[ 0  2]\n",
      " [ 9 11]]\n"
     ]
    }
   ],
   "source": [
    "x = np.array([[0, 1, 2], [3, 4, 5], [6, 7, 8], [9, 10, 11]])\n",
    "print('我们的数组是：')\n",
    "print(x)\n",
    "print('\\n')\n",
    "rows = np.array([[0, 0], [3, 3]])\n",
    "cols = np.array([[0, 2], [0, 2]])\n",
    "y = x[rows, cols]\n",
    "print('四角元素为：')\n",
    "print(y)"
   ]
  },
  {
   "cell_type": "markdown",
   "id": "ad730ae7",
   "metadata": {},
   "source": [
    "切片: 或 ... 与索引数组结合："
   ]
  },
  {
   "cell_type": "code",
   "execution_count": 24,
   "id": "1e8262b4",
   "metadata": {
    "ExecuteTime": {
     "end_time": "2021-10-07T08:36:38.636218Z",
     "start_time": "2021-10-07T08:36:38.625245Z"
    }
   },
   "outputs": [
    {
     "name": "stdout",
     "output_type": "stream",
     "text": [
      "[[5 6]\n",
      " [8 9]]\n",
      "[[5 6]\n",
      " [8 9]]\n",
      "[[2 3]\n",
      " [5 6]\n",
      " [8 9]]\n"
     ]
    }
   ],
   "source": [
    "a = np.array([[1, 2, 3], [4, 5, 6], [7, 8, 9]])\n",
    "b = a[1:3, 1:3]  # 行为第1到第2行，列为第1到第二列（从0开始）\n",
    "c = a[1:3, [1, 2]]  # 行为第1到第2行，列为下标1到2（从0开始）\n",
    "d = a[..., 1:]  # 行为全部，列为第1列到最后（从0开始）\n",
    "print(b)\n",
    "print(c)\n",
    "print(d)"
   ]
  },
  {
   "cell_type": "markdown",
   "id": "6d7ac090",
   "metadata": {},
   "source": [
    "## 布尔索引\n",
    "通过一个布尔数组来索引目标数组。\n",
    "\n",
    "布尔索引通过布尔运算（如：比较运算符）来获取符合指定条件的元素的数组。\n",
    "\n",
    "以下获取大于5的元素："
   ]
  },
  {
   "cell_type": "code",
   "execution_count": 26,
   "id": "d21768f4",
   "metadata": {
    "ExecuteTime": {
     "end_time": "2021-10-07T08:45:51.136466Z",
     "start_time": "2021-10-07T08:45:51.116442Z"
    }
   },
   "outputs": [
    {
     "name": "stdout",
     "output_type": "stream",
     "text": [
      "我们的数组是：\n",
      "[[ 0  1  2]\n",
      " [ 3  4  5]\n",
      " [ 6  7  8]\n",
      " [ 9 10 11]]\n",
      "[ 6  7  8  9 10 11]\n"
     ]
    }
   ],
   "source": [
    "x = np.array([[0, 1, 2], [3, 4, 5], [6, 7, 8], [9, 10, 11]])\n",
    "print('我们的数组是：')\n",
    "print(x)\n",
    "# 只打印大于5的元素：\n",
    "print(x[x > 5])"
   ]
  },
  {
   "cell_type": "markdown",
   "id": "42a2890b",
   "metadata": {},
   "source": [
    "取补运算符（就是非） ~ 过滤 NaN："
   ]
  },
  {
   "cell_type": "code",
   "execution_count": 31,
   "id": "b730ae0d",
   "metadata": {
    "ExecuteTime": {
     "end_time": "2021-10-07T08:49:45.554962Z",
     "start_time": "2021-10-07T08:49:45.541986Z"
    }
   },
   "outputs": [
    {
     "name": "stdout",
     "output_type": "stream",
     "text": [
      "[1. 2. 3. 4. 5.]\n",
      "[2. +6.j 3.5+5.j]\n"
     ]
    }
   ],
   "source": [
    "# 过滤 NaN 元素：\n",
    "a = np.array([np.nan, 1, 2, np.nan, 3, 4, 5])\n",
    "print(a[~np.isnan(a)])  # 配合 np.isnan() 方法\n",
    "\n",
    "# 过滤非复数元素：\n",
    "b = np.array([1, 2+6j, 5, 3.5+5j])\n",
    "print(b[np.iscomplex(b)])"
   ]
  },
  {
   "cell_type": "markdown",
   "id": "bca45bc8",
   "metadata": {},
   "source": [
    "## 花式索引\n",
    "\n",
    "指利用整数数组进行索引。\n",
    "\n",
    "花式索引根据索引数组的值作为目标数组的某个轴的下标进行取值。\n",
    "\n",
    "对于使用一维整型数组作为索引，若目标是一维数组，则索引结果是对应下标的行，若目标为二维数组，则对应位置的元素。\n",
    "\n",
    "与切片不同，<font color=\"#ff0000\"><b>花式索引总是复制数据到新数组中</b></font>。"
   ]
  },
  {
   "cell_type": "code",
   "execution_count": 59,
   "id": "29683a4d",
   "metadata": {
    "ExecuteTime": {
     "end_time": "2021-10-07T09:16:22.590058Z",
     "start_time": "2021-10-07T09:16:22.582058Z"
    }
   },
   "outputs": [
    {
     "name": "stdout",
     "output_type": "stream",
     "text": [
      "[[ 0  1  2  3]\n",
      " [ 4  5  6  7]\n",
      " [ 8  9 10 11]\n",
      " [12 13 14 15]\n",
      " [16 17 18 19]\n",
      " [20 21 22 23]\n",
      " [24 25 26 27]\n",
      " [28 29 30 31]]\n",
      "[[16 17 18 19]\n",
      " [ 8  9 10 11]\n",
      " [ 4  5  6  7]\n",
      " [28 29 30 31]]\n",
      "[17  9  5 29]\n",
      "[ 8  9 10 11]\n"
     ]
    }
   ],
   "source": [
    "# 顺序索引数组\n",
    "x = np.arange(32).reshape((8, 4))  # 8行4列\n",
    "print(x)\n",
    "print(x[[4, 2, 1, 7]])  # 分别取 第 4、2、1、7 行\n",
    "print(x[[4, 2, 1, 7], [1]])  # 取结果的第1列。\n",
    "# [1]实际是[1,1,1,1]的简写。只能使用1个或4个元素的数组。\n",
    "print(x[[4, 2, 1, 7][1]])  # 取结果的第1行"
   ]
  },
  {
   "cell_type": "code",
   "execution_count": 55,
   "id": "f68c5b73",
   "metadata": {
    "ExecuteTime": {
     "end_time": "2021-10-07T09:10:26.653851Z",
     "start_time": "2021-10-07T09:10:26.638851Z"
    }
   },
   "outputs": [
    {
     "name": "stdout",
     "output_type": "stream",
     "text": [
      "[[16 17 18 19]\n",
      " [24 25 26 27]\n",
      " [28 29 30 31]\n",
      " [ 4  5  6  7]]\n"
     ]
    }
   ],
   "source": [
    "# 倒序索引数组\n",
    "x = np.arange(32).reshape((8,4))\n",
    "print(x[[-4,-2,-1,-7]])"
   ]
  },
  {
   "cell_type": "code",
   "execution_count": 57,
   "id": "b1ce5434",
   "metadata": {
    "ExecuteTime": {
     "end_time": "2021-10-07T09:14:46.005280Z",
     "start_time": "2021-10-07T09:14:45.997252Z"
    }
   },
   "outputs": [
    {
     "name": "stdout",
     "output_type": "stream",
     "text": [
      "[[ 4  7  5  6]\n",
      " [20 23 21 22]\n",
      " [28 31 29 30]\n",
      " [ 8 11  9 10]]\n",
      "[ 4 23 29 10]\n"
     ]
    }
   ],
   "source": [
    "# 传入多个索引数组（要使用 np.ix_ 方法）\n",
    "x = np.arange(32).reshape((8, 4))\n",
    "print(x[np.ix_([1, 5, 7, 2], [0, 3, 1, 2])])\n",
    "print(x[[1, 5, 7, 2], [0, 3, 1, 2]])"
   ]
  },
  {
   "cell_type": "markdown",
   "id": "bfe7be37",
   "metadata": {},
   "source": [
    "### 关于 np.ix_\n",
    "\n",
    "我尝试了不使用此函数，直接以逗号分隔两个(4,4)数组，则返回的是一个(1,4)矩阵。\n",
    "因此 np.ix_ 不直接等同于逗号。\n",
    "\n",
    "np.ix_ 输入了两个列表，第一个列表存放待提取元素的行标（其实就是当做一维对象数组的下标），第二个列表存放的是待提取元素的列标（可以认为是第一次提取后，针对每一个列表元素，再次进行提取并组合）。"
   ]
  }
 ],
 "metadata": {
  "kernelspec": {
   "display_name": "LearnNumpy",
   "language": "python",
   "name": "learn_numpy"
  },
  "language_info": {
   "codemirror_mode": {
    "name": "ipython",
    "version": 3
   },
   "file_extension": ".py",
   "mimetype": "text/x-python",
   "name": "python",
   "nbconvert_exporter": "python",
   "pygments_lexer": "ipython3",
   "version": "3.9.7"
  },
  "toc": {
   "base_numbering": 1,
   "nav_menu": {},
   "number_sections": true,
   "sideBar": true,
   "skip_h1_title": false,
   "title_cell": "Table of Contents",
   "title_sidebar": "Contents",
   "toc_cell": false,
   "toc_position": {},
   "toc_section_display": true,
   "toc_window_display": false
  },
  "varInspector": {
   "cols": {
    "lenName": 16,
    "lenType": 16,
    "lenVar": 40
   },
   "kernels_config": {
    "python": {
     "delete_cmd_postfix": "",
     "delete_cmd_prefix": "del ",
     "library": "var_list.py",
     "varRefreshCmd": "print(var_dic_list())"
    },
    "r": {
     "delete_cmd_postfix": ") ",
     "delete_cmd_prefix": "rm(",
     "library": "var_list.r",
     "varRefreshCmd": "cat(var_dic_list()) "
    }
   },
   "types_to_exclude": [
    "module",
    "function",
    "builtin_function_or_method",
    "instance",
    "_Feature"
   ],
   "window_display": false
  }
 },
 "nbformat": 4,
 "nbformat_minor": 5
}
