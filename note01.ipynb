{
 "metadata": {
  "language_info": {
   "codemirror_mode": {
    "name": "ipython",
    "version": 3
   },
   "file_extension": ".py",
   "mimetype": "text/x-python",
   "name": "python",
   "nbconvert_exporter": "python",
   "pygments_lexer": "ipython3",
   "version": "3.9.2"
  },
  "orig_nbformat": 2,
  "kernelspec": {
   "name": "python392jvsc74a57bd0a344eb5d42c06fa93b0bcadef9f9fc11e7ac26e308f362e62cff947f014c0e67",
   "display_name": "Python 3.9.2 64-bit"
  },
  "metadata": {
   "interpreter": {
    "hash": "a344eb5d42c06fa93b0bcadef9f9fc11e7ac26e308f362e62cff947f014c0e67"
   }
  }
 },
 "nbformat": 4,
 "nbformat_minor": 2,
 "cells": [
  {
   "cell_type": "code",
   "execution_count": 1,
   "metadata": {},
   "outputs": [
    {
     "output_type": "execute_result",
     "data": {
      "text/plain": [
       "'Trondheim'"
      ]
     },
     "metadata": {},
     "execution_count": 1
    }
   ],
   "source": [
    "string1, string2, string3 = '', 'Trondheim', 'Hammer Dance'\n",
    "non_null = string1 or string2 or string3\n",
    "non_null"
   ]
  },
  {
   "cell_type": "code",
   "execution_count": 8,
   "metadata": {},
   "outputs": [
    {
     "output_type": "execute_result",
     "data": {
      "text/plain": [
       "True"
      ]
     },
     "metadata": {},
     "execution_count": 8
    }
   ],
   "source": [
    "(1,2,3) < (1,2,4)\n",
    "[1,2,3] < [1,2,4]\n",
    "'ABC' < 'C' < 'Pascal' < 'Python'\n",
    "(1,2,3,4) < (1,2,4)\n",
    "(1,2) < (1,2,-1)\n",
    "(1,2,3) == (1.0,2.0,3.0)\n",
    "(1,2, ('aa','ab')) < (1,2,('abc','a'),4)"
   ]
  },
  {
   "cell_type": "code",
   "execution_count": 11,
   "metadata": {},
   "outputs": [
    {
     "output_type": "error",
     "ename": "NameError",
     "evalue": "name 'pip' is not defined",
     "traceback": [
      "\u001b[1;31m---------------------------------------------------------------------------\u001b[0m",
      "\u001b[1;31mNameError\u001b[0m                                 Traceback (most recent call last)",
      "\u001b[1;32m<ipython-input-11-69e23d8ade5e>\u001b[0m in \u001b[0;36m<module>\u001b[1;34m\u001b[0m\n\u001b[1;32m----> 1\u001b[1;33m \u001b[0mpip\u001b[0m\u001b[1;33m.\u001b[0m\u001b[0m__name__\u001b[0m\u001b[1;33m\u001b[0m\u001b[1;33m\u001b[0m\u001b[0m\n\u001b[0m",
      "\u001b[1;31mNameError\u001b[0m: name 'pip' is not defined"
     ]
    }
   ],
   "source": [
    "pip.__name__"
   ]
  },
  {
   "cell_type": "code",
   "execution_count": 12,
   "metadata": {},
   "outputs": [
    {
     "output_type": "execute_result",
     "data": {
      "text/plain": [
       "['E:\\\\SETUP\\\\Microsoft VS Code',\n",
       " 'c:\\\\Users\\\\IT-PC1\\\\.vscode\\\\extensions\\\\ms-toolsai.jupyter-2021.5.745244803\\\\pythonFiles',\n",
       " 'c:\\\\Users\\\\IT-PC1\\\\.vscode\\\\extensions\\\\ms-toolsai.jupyter-2021.5.745244803\\\\pythonFiles\\\\lib\\\\python',\n",
       " 'E:\\\\SETUP\\\\Python\\\\Python39\\\\python39.zip',\n",
       " 'E:\\\\SETUP\\\\Python\\\\Python39\\\\DLLs',\n",
       " 'E:\\\\SETUP\\\\Python\\\\Python39\\\\lib',\n",
       " 'E:\\\\SETUP\\\\Python\\\\Python39',\n",
       " '',\n",
       " 'C:\\\\Users\\\\IT-PC1\\\\AppData\\\\Roaming\\\\Python\\\\Python39\\\\site-packages',\n",
       " 'C:\\\\Users\\\\IT-PC1\\\\AppData\\\\Roaming\\\\Python\\\\Python39\\\\site-packages\\\\win32',\n",
       " 'C:\\\\Users\\\\IT-PC1\\\\AppData\\\\Roaming\\\\Python\\\\Python39\\\\site-packages\\\\win32\\\\lib',\n",
       " 'C:\\\\Users\\\\IT-PC1\\\\AppData\\\\Roaming\\\\Python\\\\Python39\\\\site-packages\\\\Pythonwin',\n",
       " 'E:\\\\SETUP\\\\Python\\\\Python39\\\\lib\\\\site-packages',\n",
       " 'C:\\\\Users\\\\IT-PC1\\\\AppData\\\\Roaming\\\\Python\\\\Python39\\\\site-packages\\\\IPython\\\\extensions',\n",
       " 'C:\\\\Users\\\\IT-PC1\\\\.ipython']"
      ]
     },
     "metadata": {},
     "execution_count": 12
    }
   ],
   "source": [
    "sys.path"
   ]
  },
  {
   "cell_type": "code",
   "execution_count": null,
   "metadata": {},
   "outputs": [],
   "source": []
  }
 ]
}