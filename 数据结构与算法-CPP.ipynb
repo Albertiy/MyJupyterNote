{
 "cells": [
  {
   "cell_type": "code",
   "execution_count": 6,
   "id": "ccf946fc",
   "metadata": {},
   "outputs": [
    {
     "name": "stdout",
     "output_type": "stream",
     "text": [
      "Hello, World!"
     ]
    }
   ],
   "source": [
    "#include<iostream>\n",
    "using namespace std;\n",
    "\n",
    "cout<<\"Hello, World!\";"
   ]
  },
  {
   "cell_type": "code",
   "execution_count": 27,
   "id": "24cfe5a6",
   "metadata": {},
   "outputs": [
    {
     "name": "stderr",
     "output_type": "stream",
     "text": [
      "No documentation found for printf\n"
     ]
    }
   ],
   "source": [
    "?printf"
   ]
  },
  {
   "cell_type": "code",
   "execution_count": 1,
   "id": "a06ec26f",
   "metadata": {},
   "outputs": [
    {
     "name": "stdout",
     "output_type": "stream",
     "text": [
      "Hello, World!\n"
     ]
    },
    {
     "data": {
      "text/plain": [
       "0"
      ]
     },
     "execution_count": 1,
     "metadata": {},
     "output_type": "execute_result"
    }
   ],
   "source": [
    "# include <stdio.h>\n",
    "int main () {\n",
    "    printf(\"Hello, World!\\n\");\n",
    "    return 0;\n",
    "}\n",
    "\n",
    "main()"
   ]
  },
  {
   "cell_type": "code",
   "execution_count": 16,
   "id": "61981b25-de33-4cc5-b64e-04ee61e162e5",
   "metadata": {},
   "outputs": [
    {
     "name": "stderr",
     "output_type": "stream",
     "text": [
      "\u001b[1minput_line_34:3:49: \u001b[0m\u001b[0;1;31merror: \u001b[0m\u001b[1mfunction definition is not allowed here\u001b[0m\n",
      "void show_bytes(byte_pointer start, size_t len) {\n",
      "\u001b[0;1;32m                                                ^\n",
      "\u001b[0m"
     ]
    },
    {
     "ename": "Interpreter Error",
     "evalue": "",
     "output_type": "error",
     "traceback": [
      "Interpreter Error: "
     ]
    }
   ],
   "source": [
    "typedef unsigned char *byte_pointer;\n",
    "\n",
    "void show_bytes(byte_pointer start, size_t len) {\n",
    "    size_t i;\n",
    "    for(int i=0;i<len;i++)\n",
    "        printf(\" %.2x\", start[i]);\t// .2 表示为整数时至少输出两位，x表示二进制\n",
    "    printf(\"\\n\");\n",
    "}"
   ]
  },
  {
   "cell_type": "code",
   "execution_count": null,
   "id": "9495ea7c-f8bd-4877-a540-16ead1b0b627",
   "metadata": {},
   "outputs": [],
   "source": []
  },
  {
   "cell_type": "code",
   "execution_count": 28,
   "id": "298c7ef4-a1a3-4ebf-a2b8-6fc6d54709f6",
   "metadata": {},
   "outputs": [
    {
     "name": "stdout",
     "output_type": "stream",
     "text": [
      "36000000000"
     ]
    }
   ],
   "source": [
    "uint64_t i = 300ul*400ul*500ul*600ul;\n",
    "printf(\"%ld\",i);"
   ]
  },
  {
   "cell_type": "code",
   "execution_count": null,
   "id": "77c53430-78b5-4f21-8b5d-52cb69af769d",
   "metadata": {},
   "outputs": [],
   "source": []
  },
  {
   "cell_type": "code",
   "execution_count": 29,
   "id": "c7dbff0d-66f9-448d-8dc3-beb75536869f",
   "metadata": {},
   "outputs": [
    {
     "name": "stderr",
     "output_type": "stream",
     "text": [
      "\u001b[1minput_line_48:2:21: \u001b[0m\u001b[0;1;35mwarning: \u001b[0m\u001b[1moverflow in expression; result is 1640261632 with type 'int' [-Winteger-overflow]\u001b[0m\n",
      " int i = 300*400*500*600;\n",
      "\u001b[0;1;32m                    ^\n",
      "\u001b[0m"
     ]
    },
    {
     "name": "stdout",
     "output_type": "stream",
     "text": [
      "1640261632"
     ]
    }
   ],
   "source": [
    "int i = 300*400*500*600;\n",
    "printf(\"%d\",i);"
   ]
  },
  {
   "cell_type": "code",
   "execution_count": 25,
   "id": "cf15a863-db26-41e2-b41a-99df043c99fe",
   "metadata": {},
   "outputs": [
    {
     "data": {
      "text/plain": [
       "8"
      ]
     },
     "execution_count": 25,
     "metadata": {},
     "output_type": "execute_result"
    }
   ],
   "source": [
    "sizeof(uint64_t)"
   ]
  },
  {
   "cell_type": "code",
   "execution_count": 37,
   "id": "3e58c7c1-bfaa-4870-838d-38a50b672169",
   "metadata": {},
   "outputs": [
    {
     "data": {
      "text/plain": [
       "8"
      ]
     },
     "execution_count": 37,
     "metadata": {},
     "output_type": "execute_result"
    }
   ],
   "source": [
    "sizeof(void *)"
   ]
  },
  {
   "cell_type": "code",
   "execution_count": 53,
   "id": "6babe771-7471-4351-86b3-d34f15f300a5",
   "metadata": {},
   "outputs": [],
   "source": [
    "typedef char * char_pointer;\n",
    "char_pointer cp;"
   ]
  },
  {
   "cell_type": "code",
   "execution_count": 58,
   "id": "a462f7c5-446c-4b10-ad5c-4a8a274ef8db",
   "metadata": {},
   "outputs": [
    {
     "data": {
      "text/plain": [
       "8"
      ]
     },
     "execution_count": 58,
     "metadata": {},
     "output_type": "execute_result"
    }
   ],
   "source": [
    "void ** a;\n",
    "sizeof(a)"
   ]
  },
  {
   "cell_type": "code",
   "execution_count": 76,
   "id": "f2cce6e3-3227-4032-aa8a-ff29172e294a",
   "metadata": {},
   "outputs": [
    {
     "name": "stdout",
     "output_type": "stream",
     "text": [
      "10"
     ]
    },
    {
     "data": {
      "text/plain": [
       "@0x7ffef7539818"
      ]
     },
     "execution_count": 76,
     "metadata": {},
     "output_type": "execute_result"
    }
   ],
   "source": [
    "int a = 10;\n",
    "int * ap = &a;\n",
    "printf(\"%d\",*ap);\n",
    "\n",
    "ap"
   ]
  },
  {
   "cell_type": "code",
   "execution_count": 79,
   "id": "ee36b8a0-aecd-4258-bbdf-45ba37e58b28",
   "metadata": {},
   "outputs": [
    {
     "data": {
      "text/plain": [
       "\"abcdef\""
      ]
     },
     "execution_count": 79,
     "metadata": {},
     "output_type": "execute_result"
    }
   ],
   "source": [
    "const char *s = \"abcdef\";\n"
   ]
  },
  {
   "cell_type": "code",
   "execution_count": 85,
   "id": "3a6837b7-2db3-4f30-81d9-95013659fd6a",
   "metadata": {},
   "outputs": [
    {
     "data": {
      "text/plain": [
       "52"
      ]
     },
     "execution_count": 85,
     "metadata": {},
     "output_type": "execute_result"
    }
   ],
   "source": [
    "(1<<2)+(3<<4)\n"
   ]
  },
  {
   "cell_type": "code",
   "execution_count": 90,
   "id": "6c6106fa-3fc6-4b20-b3ac-c97f61ff1e43",
   "metadata": {},
   "outputs": [
    {
     "data": {
      "text/plain": [
       "'0x88'"
      ]
     },
     "execution_count": 90,
     "metadata": {},
     "output_type": "execute_result"
    }
   ],
   "source": [
    "std::string s = \"我的缪你这\";\n",
    "\n",
    "\n",
    "s[1]"
   ]
  },
  {
   "cell_type": "code",
   "execution_count": 15,
   "id": "accb63e9-7de6-43bf-8551-48e1e52bbbc2",
   "metadata": {},
   "outputs": [
    {
     "name": "stdout",
     "output_type": "stream",
     "text": [
      "1990.000000\n",
      "130637764.000000\n"
     ]
    }
   ],
   "source": [
    "printf(\"%f\\n\", 19.9 * 100);\n",
    "printf(\"%f\\n\", 1306377.64 * 100);\n"
   ]
  },
  {
   "cell_type": "code",
   "execution_count": 18,
   "id": "36c805e5-acf7-42c9-b991-0d9d922d3f2b",
   "metadata": {},
   "outputs": [
    {
     "data": {
      "text/plain": [
       "-inf"
      ]
     },
     "execution_count": 18,
     "metadata": {},
     "output_type": "execute_result"
    }
   ],
   "source": [
    "1.0/-0.0"
   ]
  },
  {
   "cell_type": "code",
   "execution_count": 19,
   "id": "dee7227d-14c9-4489-a86e-bb59d26ecd1c",
   "metadata": {},
   "outputs": [
    {
     "data": {
      "text/plain": [
       "-0.0000000"
      ]
     },
     "execution_count": 19,
     "metadata": {},
     "output_type": "execute_result"
    }
   ],
   "source": [
    "-0.0"
   ]
  },
  {
   "cell_type": "code",
   "execution_count": 21,
   "id": "13141396-56e8-4bb1-99e4-5e7f467db00b",
   "metadata": {},
   "outputs": [
    {
     "name": "stderr",
     "output_type": "stream",
     "text": [
      "\u001b[1minput_line_42:2:10: \u001b[0m\u001b[0;1;35mwarning: \u001b[0m\u001b[1mimplicit conversion from 'double' to 'int' changes value from 1.345594389543432E+16 to 2147483647\n",
      "      [-Wliteral-conversion]\u001b[0m\n",
      " int x = 13455943895434324.0\n",
      "\u001b[0;1;32m     ~   ^~~~~~~~~~~~~~~~~~~\n",
      "\u001b[0m"
     ]
    }
   ],
   "source": [
    "int x = 13455943895434324.0"
   ]
  },
  {
   "cell_type": "code",
   "execution_count": 24,
   "id": "5090b169-75d7-4a70-8984-5942b33327e0",
   "metadata": {},
   "outputs": [],
   "source": [
    "#include <math.h>"
   ]
  },
  {
   "cell_type": "code",
   "execution_count": 25,
   "id": "339a44cc-69db-4e6f-9c39-0b7703b949ee",
   "metadata": {},
   "outputs": [
    {
     "data": {
      "text/plain": [
       "2147483647"
      ]
     },
     "execution_count": 25,
     "metadata": {},
     "output_type": "execute_result"
    }
   ],
   "source": [
    "(unsigned)(~0) >> 1"
   ]
  }
 ],
 "metadata": {
  "kernelspec": {
   "display_name": "C++11",
   "language": "C++11",
   "name": "xcpp11"
  },
  "language_info": {
   "codemirror_mode": "text/x-c++src",
   "file_extension": ".cpp",
   "mimetype": "text/x-c++src",
   "name": "c++",
   "version": "11"
  }
 },
 "nbformat": 4,
 "nbformat_minor": 5
}
