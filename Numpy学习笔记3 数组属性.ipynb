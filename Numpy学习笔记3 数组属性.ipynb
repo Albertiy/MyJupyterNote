{
 "cells": [
  {
   "cell_type": "markdown",
   "id": "87ac4ae9",
   "metadata": {},
   "source": [
    "# NumPy数组的基本属性\n",
    "\n",
    "数组的维度称为“秩（rank）”，秩就是轴的数量，即数组的维度，一位数组的秩为1，二维数组为2，以此类推。\n",
    "\n",
    "每一个线性的数组称为一个“轴（axis）”，也就是维度（dimensions）。例如，二维数组相当于两个一维数组，其中第一个一位数组中的每一个元素又是一个一维数组。\n",
    "\n",
    "因此一维数组就是Numpy中的轴（axis）。第一个轴相当于底层数组，第二个轴是底层数组里的数组。\n",
    "\n",
    "对于二维数组（矩阵），可以声明 axis=0，表示沿着第0轴进行操作，即对每一列进行操作。axis=1，表示沿着第1轴进行操作，即对每一行进行操作。\n",
    "\n",
    "（？？？）无法理解。"
   ]
  },
  {
   "cell_type": "markdown",
   "id": "9e58c073",
   "metadata": {},
   "source": [
    "NumPy 数组中重要的 ndarray 对象属性：\n",
    "\n",
    "|属性|说明|\n",
    "|:----:|:----|\n",
    "|ndrray.ndim|秩，即轴的数量或维度|\n",
    "|ndarray.shape|数组的维度，对于矩阵，n行m列|\n",
    "|ndarray.size|数组元素的总数，闲相当与 .shape 中的 `n*m` 的值|\n",
    "|ndarray.dtype|元素类型|\n",
    "|ndarray.itemsize|每个元素的大小，以字节为单位|\n",
    "|ndarray,flags|ndarray对象的内存信息|\n",
    "|ndarray.real|元素的实部|\n",
    "|ndarray.imag|元素的虚部|\n",
    "|ndarray.data|包含实际数组元素的缓冲区，由于一般使用数组索引获取元素，故通常不用|"
   ]
  },
  {
   "cell_type": "markdown",
   "id": "6312f105",
   "metadata": {},
   "source": [
    "## ndarray.ndim\n",
    "\n",
    "用于返回数组的维度（秩）"
   ]
  },
  {
   "cell_type": "code",
   "execution_count": 11,
   "id": "60431f42",
   "metadata": {},
   "outputs": [
    {
     "name": "stdout",
     "output_type": "stream",
     "text": [
      "1\n",
      "[ 0  1  2  3  4  5  6  7  8  9 10 11 12 13 14 15 16 17 18 19 20 21 22 23]\n",
      "3\n",
      "[[[ 0  1  2]\n",
      "  [ 3  4  5]\n",
      "  [ 6  7  8]\n",
      "  [ 9 10 11]]\n",
      "\n",
      " [[12 13 14]\n",
      "  [15 16 17]\n",
      "  [18 19 20]\n",
      "  [21 22 23]]]\n"
     ]
    }
   ],
   "source": [
    "import numpy as np\n",
    "\n",
    "a = np.arange(24)\n",
    "print(a.ndim) # a此时只有一个维度\n",
    "print(a)\n",
    "b = a.reshape(2,4,3) # b此时有三个维度。注：reshape通常返回非拷贝副本\n",
    "print(b.ndim)\n",
    "print(b)"
   ]
  },
  {
   "cell_type": "markdown",
   "id": "99bac37d",
   "metadata": {},
   "source": [
    "## ndarray.shape\n",
    "\n",
    "ndarray.shape 表示数组的维度，返回一个元组，该元组长度就是维度的数目，如一个二维数组，其维度表示“行数”和“列数”。\n",
    "\n",
    "ndarray.shape 也可用于调整数组大小。"
   ]
  },
  {
   "cell_type": "code",
   "execution_count": 7,
   "id": "6eef6cca",
   "metadata": {},
   "outputs": [
    {
     "name": "stdout",
     "output_type": "stream",
     "text": [
      "(2, 3)\n"
     ]
    }
   ],
   "source": [
    "a = np.array([[1,2,3],[4,5,6]])\n",
    "print(a.shape)"
   ]
  },
  {
   "cell_type": "code",
   "execution_count": 8,
   "id": "ce80557b",
   "metadata": {},
   "outputs": [
    {
     "name": "stdout",
     "output_type": "stream",
     "text": [
      "[[1 2]\n",
      " [3 4]\n",
      " [5 6]]\n"
     ]
    }
   ],
   "source": [
    "# 调整数组大小\n",
    "a.shape = (3,2)\n",
    "print(a)"
   ]
  },
  {
   "cell_type": "code",
   "execution_count": 10,
   "id": "0e8e98b0",
   "metadata": {},
   "outputs": [
    {
     "name": "stdout",
     "output_type": "stream",
     "text": [
      "[[1 2]\n",
      " [3 4]\n",
      " [5 6]]\n"
     ]
    }
   ],
   "source": [
    "# 或者使用 reshape方法 调整数组大小\n",
    "a = np.array([[1,2,3],[4,5,6]])\n",
    "b = a.reshape(3,2)\n",
    "print(b)"
   ]
  },
  {
   "cell_type": "markdown",
   "id": "3199c3e6",
   "metadata": {},
   "source": [
    "可以看出，shape和reshape()是将元素当做一维数组，重新切分。"
   ]
  },
  {
   "cell_type": "markdown",
   "id": "51183a16",
   "metadata": {},
   "source": [
    "## ndarray.itemsize\n",
    "\n",
    "以<b>字节</b>的形式返回数组中每一个元素的大小。\n",
    "\n",
    "例如，一个元素类型为 float64 的数组，itemsize 属性值为8。\n",
    "又如，一个元素类型为 complex32 的数组 itemsize 属性为 4。"
   ]
  },
  {
   "cell_type": "code",
   "execution_count": 12,
   "id": "8ef4e60b",
   "metadata": {},
   "outputs": [
    {
     "name": "stdout",
     "output_type": "stream",
     "text": [
      "1\n",
      "8\n"
     ]
    }
   ],
   "source": [
    "x = np.array([1,2,3,4,5], dtype = np.int8)\n",
    "print(x.itemsize)\n",
    "\n",
    "y= np.array([1,2,3,4,5], dtype = np.float64)\n",
    "print(y.itemsize)"
   ]
  },
  {
   "cell_type": "markdown",
   "id": "0ea1b793",
   "metadata": {},
   "source": [
    "## ndarray.flags\n",
    "\n",
    "ndarray.flags 返回 ndarray 对象的内存信息，包含以下属性：\n",
    "\n",
    "|属性|描述|\n",
    "|:----:|:----|\n",
    "|C_CONTIGUOUS(C)|数据在一个单一的C分格连续段中|\n",
    "|F_CONTIGUOUS(F)|数据在一个单一的Fortran分格的连续段中|\n",
    "|OWNDATA(O)|数组拥有它所使用的内存，或从另一个对象中借用它|\n",
    "|WRITEABLE(W)|数组区域可以被写入，将该值设置为False，则数据为只读|\n",
    "|ALIGNED(A)|数据和所有元素都适当地对齐到硬件上|\n",
    "|UPDATEIFCOPY(U)|这个数组是其它数组的一个副本，当这个数组被释放，原数组内容将被更新|"
   ]
  },
  {
   "cell_type": "code",
   "execution_count": 13,
   "id": "d5486719",
   "metadata": {},
   "outputs": [
    {
     "name": "stdout",
     "output_type": "stream",
     "text": [
      "  C_CONTIGUOUS : True\n",
      "  F_CONTIGUOUS : True\n",
      "  OWNDATA : True\n",
      "  WRITEABLE : True\n",
      "  ALIGNED : True\n",
      "  WRITEBACKIFCOPY : False\n",
      "  UPDATEIFCOPY : False\n",
      "\n"
     ]
    }
   ],
   "source": [
    "x = np.array([1,2,3,4,5])\n",
    "print(x.flags)"
   ]
  }
 ],
 "metadata": {
  "kernelspec": {
   "display_name": "LearnNumpy",
   "language": "python",
   "name": "learn_numpy"
  },
  "language_info": {
   "codemirror_mode": {
    "name": "ipython",
    "version": 3
   },
   "file_extension": ".py",
   "mimetype": "text/x-python",
   "name": "python",
   "nbconvert_exporter": "python",
   "pygments_lexer": "ipython3",
   "version": "3.9.7"
  }
 },
 "nbformat": 4,
 "nbformat_minor": 5
}
