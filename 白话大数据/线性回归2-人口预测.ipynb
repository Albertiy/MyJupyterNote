{
 "cells": [
  {
   "cell_type": "code",
   "execution_count": 3,
   "id": "9e66383a-3357-4764-97b1-3a5420f82da8",
   "metadata": {},
   "outputs": [],
   "source": [
    "import numpy as np\n",
    "from scipy.optimize import curve_fit\n",
    "import matplotlib.pyplot as plt"
   ]
  },
  {
   "cell_type": "code",
   "execution_count": 4,
   "id": "bfdd5493-0840-41b8-8373-1b0ac6be8310",
   "metadata": {},
   "outputs": [],
   "source": [
    "# 原始数据\n",
    "T = [1960, 1961, 1962, 1963, 1964, 1965, 1966, 1967, 1968]\n",
    "S = [29.72, 30.61, 31.51, 32.13, 32.34, 32.85, 33.56, 34.20, 34.83]"
   ]
  },
  {
   "cell_type": "code",
   "execution_count": 5,
   "id": "df6063b5-c92e-4f18-90d3-015bc31b88da",
   "metadata": {},
   "outputs": [],
   "source": [
    "# 马尔萨斯人口模型的线性化（两边取对数）：ln⁡s=βt+ln⁡a\n",
    "xdata = np.array(T)\n",
    "ydata = np.log(np.array(S))"
   ]
  },
  {
   "cell_type": "code",
   "execution_count": 6,
   "id": "725b3bc1-4fc0-498e-87f5-73404deb8a36",
   "metadata": {},
   "outputs": [],
   "source": [
    "def func(x, a, b):\n",
    "        return a + b*x"
   ]
  },
  {
   "cell_type": "code",
   "execution_count": 7,
   "id": "140c5848-6305-4d3a-b472-72a58770ae0d",
   "metadata": {},
   "outputs": [],
   "source": [
    "# 使用非线性最小二乘法拟合函数\n",
    "popt, pcov = curve_fit(func, xdata, ydata) # beta 和 lna"
   ]
  },
  {
   "cell_type": "code",
   "execution_count": 8,
   "id": "5d985a4a-1c00-46e8-82a7-8210c8eb117b",
   "metadata": {},
   "outputs": [
    {
     "data": {
      "image/png": "[encoded data removed]",
      "text/plain": [
       "<Figure size 432x288 with 1 Axes>"
      ]
     },
     "metadata": {
      "needs_background": "light"
     },
     "output_type": "display_data"
    }
   ],
   "source": [
    "# 画图\n",
    "plt.plot(xdata, ydata, 'ko', label=\"Original Noised Data\")\n",
    "plt.plot(xdata, func(xdata, *popt), 'r', label=\"Fitted Curve\")\n",
    "plt.show()"
   ]
  },
  {
   "cell_type": "code",
   "execution_count": 9,
   "id": "9a1959e4-3beb-4acd-83fc-9ef4d7ce6039",
   "metadata": {},
   "outputs": [
    {
     "name": "stdout",
     "output_type": "stream",
     "text": [
      "[-3.30382821e+01  1.85925592e-02]\n",
      "[[ 3.39569574e+00 -1.72896632e-03]\n",
      " [-1.72896632e-03  8.80329076e-07]]\n"
     ]
    }
   ],
   "source": [
    "print(popt)\n",
    "print(pcov)"
   ]
  },
  {
   "cell_type": "code",
   "execution_count": null,
   "id": "cfb6d9b2-b00c-48df-b4c5-f2f6c644cb87",
   "metadata": {},
   "outputs": [],
   "source": []
  }
 ],
 "metadata": {
  "kernelspec": {
   "display_name": "Python 3 (ipykernel)",
   "language": "python",
   "name": "python3"
  },
  "language_info": {
   "codemirror_mode": {
    "name": "ipython",
    "version": 3
   },
   "file_extension": ".py",
   "mimetype": "text/x-python",
   "name": "python",
   "nbconvert_exporter": "python",
   "pygments_lexer": "ipython3",
   "version": "3.9.5"
  }
 },
 "nbformat": 4,
 "nbformat_minor": 5
}
