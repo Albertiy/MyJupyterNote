{
 "cells": [
  {
   "cell_type": "code",
   "execution_count": 4,
   "id": "4c9b604d-80d8-42f9-9156-ddf5fd6f46fb",
   "metadata": {
    "tags": []
   },
   "outputs": [],
   "source": [
    "import numpy as np\n",
    "import matplotlib.pyplot as plt"
   ]
  },
  {
   "cell_type": "code",
   "execution_count": 24,
   "id": "17c15986-94b9-4e8e-ace4-77e1ad3308d6",
   "metadata": {},
   "outputs": [],
   "source": [
    "x = [1,2,3,4,5,6,7,8,9]\n",
    "y = [0.199, 0.389, 0.580, 0.783, 0.980, 1.177, 1.380, 1.575, 1.771]"
   ]
  },
  {
   "cell_type": "code",
   "execution_count": 37,
   "id": "67c84d3d-e3f9-411f-b8ad-2ed1693af140",
   "metadata": {},
   "outputs": [
    {
     "data": {
      "text/plain": [
       "array([[1., 1.],\n",
       "       [2., 1.],\n",
       "       [3., 1.],\n",
       "       [4., 1.],\n",
       "       [5., 1.],\n",
       "       [6., 1.],\n",
       "       [7., 1.],\n",
       "       [8., 1.],\n",
       "       [9., 1.]])"
      ]
     },
     "execution_count": 37,
     "metadata": {},
     "output_type": "execute_result"
    }
   ],
   "source": [
    "# np.vstack：按垂直方向（行顺序）堆叠数组构成新数组，需要有相同维度，T：转置。\n",
    "A = np.vstack([x, np.ones(len(x))]).T\n",
    "A"
   ]
  },
  {
   "cell_type": "code",
   "execution_count": 34,
   "id": "55e8d037-98e2-4548-9064-23352e8f591c",
   "metadata": {},
   "outputs": [],
   "source": [
    "# x.extend(np.ones(len(x))) # 直接连接向量的办法\n",
    "\n",
    "# linalg 是 np 的线性代数包，lstsq 是 LeaST SQuare，最小二乘法，用于求解超定线性方程组\n",
    "a, b = np.linalg.lstsq(A, y, rcond=None) [0]\n",
    "# a是斜率，b是y轴偏移"
   ]
  },
  {
   "cell_type": "code",
   "execution_count": 35,
   "id": "2406df4f-6382-493c-b55f-eb2c4e77adc6",
   "metadata": {},
   "outputs": [
    {
     "name": "stdout",
     "output_type": "stream",
     "text": [
      "[1 2 3 4 5 6 7 8 9]\n",
      "[0.199 0.389 0.58  0.783 0.98  1.177 1.38  1.575 1.771]\n"
     ]
    }
   ],
   "source": [
    "x = np.array(x)\n",
    "y = np.array(y)\n",
    "\n",
    "print(x)\n",
    "print(y)"
   ]
  },
  {
   "cell_type": "code",
   "execution_count": 36,
   "id": "0bcadf04-dfb2-476e-9e2e-f1f86200ed40",
   "metadata": {},
   "outputs": [
    {
     "data": {
      "image/png": "[encoded data removed]",
      "text/plain": [
       "<Figure size 432x288 with 1 Axes>"
      ]
     },
     "metadata": {
      "needs_background": "light"
     },
     "output_type": "display_data"
    }
   ],
   "source": [
    "plt.plot(x, y, 'o', label = 'Original data', markersize=10)\n",
    "plt.plot(x, a * x + b, 'r', label='Fitted line')\n",
    "plt.show()"
   ]
  },
  {
   "cell_type": "code",
   "execution_count": null,
   "id": "83e4bb16-4aa7-4fb9-808f-ecf3e0b30d29",
   "metadata": {},
   "outputs": [],
   "source": []
  },
  {
   "cell_type": "code",
   "execution_count": null,
   "id": "825200fd-7d76-4a2e-b201-075382e114e1",
   "metadata": {},
   "outputs": [],
   "source": []
  }
 ],
 "metadata": {
  "kernelspec": {
   "display_name": "Python 3 (ipykernel)",
   "language": "python",
   "name": "python3"
  },
  "language_info": {
   "codemirror_mode": {
    "name": "ipython",
    "version": 3
   },
   "file_extension": ".py",
   "mimetype": "text/x-python",
   "name": "python",
   "nbconvert_exporter": "python",
   "pygments_lexer": "ipython3",
   "version": "3.9.5"
  }
 },
 "nbformat": 4,
 "nbformat_minor": 5
}
