{
 "cells": [
  {
   "cell_type": "code",
   "execution_count": 13,
   "id": "2b3dff1f-3af0-451d-9235-272a3b5330ae",
   "metadata": {},
   "outputs": [],
   "source": [
    "#include <iostream>\n",
    "using namespace std;"
   ]
  },
  {
   "cell_type": "markdown",
   "id": "77ac0ac1-45c2-4ca5-bda1-07c44298e0f6",
   "metadata": {},
   "source": [
    "第一题"
   ]
  },
  {
   "cell_type": "code",
   "execution_count": 32,
   "id": "086e610e-969d-44d8-96ff-cb36b95c0e69",
   "metadata": {},
   "outputs": [
    {
     "name": "stdout",
     "output_type": "stream",
     "text": [
      "is 'zero'"
     ]
    }
   ],
   "source": [
    "bool a = false;\n",
    "if (a) { cout << \"is not 'zero'\"; }\n",
    "else { cout << \"is 'zero'\"; }"
   ]
  },
  {
   "cell_type": "code",
   "execution_count": 29,
   "id": "5c1fa2d1-bfea-4792-938e-98af380c02f3",
   "metadata": {},
   "outputs": [
    {
     "name": "stdout",
     "output_type": "stream",
     "text": [
      "x is not 0"
     ]
    }
   ],
   "source": [
    "float x = 0.000001;\n",
    "const float EPSINON = 0.00000001;\n",
    "if (x >= -EPSINON && x <= EPSINON) { cout << \"x is 0\"; }\n",
    "else { cout << \"x is not 0\"; }"
   ]
  },
  {
   "cell_type": "code",
   "execution_count": 33,
   "id": "29d57894-613b-480c-95e9-ba03632a71ea",
   "metadata": {},
   "outputs": [
    {
     "name": "stdout",
     "output_type": "stream",
     "text": [
      "p is not 0，\tc"
     ]
    }
   ],
   "source": [
    "char c = 'c';\n",
    "char *p = &c;\n",
    "if (p == NULL) { cout << \"p is 0\"; }\n",
    "if (p != NULL) { cout << \"p is not 0，\\t\" << p; }"
   ]
  },
  {
   "cell_type": "markdown",
   "id": "bb0149e2-9be7-4933-9b70-7058bd82ba21",
   "metadata": {},
   "source": [
    "第二题"
   ]
  },
  {
   "cell_type": "code",
   "execution_count": 47,
   "id": "02dca96e-6c1b-4c6c-ad47-f0ffe18df6ac",
   "metadata": {},
   "outputs": [
    {
     "name": "stdout",
     "output_type": "stream",
     "text": [
      "6\n",
      "8\n",
      "4\n",
      "8\n"
     ]
    }
   ],
   "source": [
    "char str[] = \"Hello\";\n",
    "char *p = str;\n",
    "int n = 10;\n",
    "\n",
    "cout << sizeof(str) << endl;\n",
    "\n",
    "cout << sizeof(p) << endl;\n",
    "\n",
    "cout << sizeof(n) << endl;\n",
    "\n",
    "// void Func(char str[100]) {\n",
    "    \n",
    "// }\n",
    "\n",
    "void *q = malloc(100);\n",
    "\n",
    "cout << sizeof(q) << endl;"
   ]
  },
  {
   "cell_type": "markdown",
   "id": "f80bce62-e37b-4779-9385-1f817ff1e28b",
   "metadata": {},
   "source": [
    "简答题"
   ]
  },
  {
   "cell_type": "markdown",
   "id": "d7599aa1-61ca-4089-9d90-abcd4c505eb2",
   "metadata": {},
   "source": [
    "1. 头文件中的 ifndef/define/endif 用途？"
   ]
  },
  {
   "cell_type": "markdown",
   "id": "0baef1d9-8d4f-474b-8745-3436803b70a3",
   "metadata": {},
   "source": [
    "我答：用来防止重复include头文件。"
   ]
  },
  {
   "cell_type": "markdown",
   "id": "cdeaf6eb-7418-4a68-aef4-4711cc7aa391",
   "metadata": {},
   "source": [
    "正确答案：防止该头文件被重复引用。"
   ]
  },
  {
   "cell_type": "markdown",
   "id": "3ce00bcb-7748-45aa-87d2-ca351f838b4c",
   "metadata": {},
   "source": [
    "2. `#include <filename.h>` 和 `#include \"filename.h\"` 区别？"
   ]
  },
  {
   "cell_type": "markdown",
   "id": "5c8b1926-831f-4bbb-8352-d8663677f96f",
   "metadata": {},
   "source": [
    "我答：一个是官方类库，一个是本地自用和第三方类库"
   ]
  },
  {
   "cell_type": "markdown",
   "id": "a29a9059-d7bf-406e-9004-14fc146e20c6",
   "metadata": {},
   "source": [
    "正确答案：对于 #include <>，编译器从标准库路径开始搜索；对于 #include \"\"，从用户工作路径开始搜索"
   ]
  },
  {
   "cell_type": "markdown",
   "id": "eba7e97a-29c7-4581-a1a0-dbacedb5b779",
   "metadata": {},
   "source": [
    "3. const 有什么用途？（至少两种）"
   ]
  },
  {
   "cell_type": "markdown",
   "id": "4fa60ef1-adc5-4f3c-b8df-7cc2ae97bdc3",
   "metadata": {},
   "source": [
    "我答：1. 防止误修改；2. 占用变量名？"
   ]
  },
  {
   "cell_type": "markdown",
   "id": "6fec0629-2184-4c27-9b54-2d3b46d7c1ea",
   "metadata": {},
   "source": [
    "正确答案：\n",
    "1. 可定义 const 常量\n",
    "2. 可修饰函数的参数与返回值，甚至函数的定义体。被 const 修饰的东西受保护，预防意外变动。"
   ]
  },
  {
   "cell_type": "markdown",
   "id": "d54817d0-54ec-487a-8fef-6557c9d7b184",
   "metadata": {},
   "source": [
    "4. 在 C++ 程序中调用被 C 编译器编译后的函数，为什么要加 extern \"C\" 声明？"
   ]
  },
  {
   "cell_type": "markdown",
   "id": "e1eae689-b33d-44e9-b695-3419e62072f2",
   "metadata": {},
   "source": [
    "正确答案：C++语言支持重载，C语言不支持函数重载。函数被C++编译后在库中的名字与C语言的不同。  \n",
    "假设函数原型：void foo(int x, int y);  \n",
    "该函数被 C 编译器编译后在库中的名字为 _foo，而 C++ 编译后在库中的名字为 _foo_int_int 之类。  \n",
    "C++ 提供了 C 连接交换指定符号 extern \"C\" 来解决名字匹配问题。  "
   ]
  },
  {
   "cell_type": "markdown",
   "id": "580d3673-0992-4320-bb1c-6e116a350e73",
   "metadata": {},
   "source": [
    "5. for 循环优缺点"
   ]
  },
  {
   "cell_type": "markdown",
   "id": "97179d08-aee1-445d-beb8-eb7f3ec5a557",
   "metadata": {},
   "source": [
    "第一个，外循环内判断，每一个都单独判断执行；  \n",
    "第二个，外判断内循环，只要符合条件就循环执行。"
   ]
  },
  {
   "cell_type": "markdown",
   "id": "27c6f340-8d08-4bc4-bead-8119f7c12ddc",
   "metadata": {},
   "source": [
    "正确答案：  \n",
    "1. 优点：程序简洁；缺点：多执行判断 n-1 次，且打断了循环的“流水线”作业，使得编译器不能对循环进行优化处理，降低了效率。  \n",
    "2. 优点：循环效率高；缺点：程序不简洁（这是什么鬼！@#……*）"
   ]
  },
  {
   "cell_type": "markdown",
   "id": "35b3f6a5-c9a5-4d7c-ae83-d4aacc2f0d24",
   "metadata": {},
   "source": [
    "四、有关内存思考题"
   ]
  },
  {
   "cell_type": "code",
   "execution_count": 55,
   "id": "6de05dd1-566c-4693-bb3f-0d8d97d1ba39",
   "metadata": {},
   "outputs": [],
   "source": [
    "void GetMemory_1(char *p) \n",
    "{ \n",
    "    p = (char *)malloc(100); \n",
    "} "
   ]
  },
  {
   "cell_type": "code",
   "execution_count": 56,
   "id": "7c512e0e-1632-4e36-a504-c8610471bb0f",
   "metadata": {},
   "outputs": [
    {
     "name": "stderr",
     "output_type": "stream",
     "text": [
      "\u001b[1minput_line_66:5:12: \u001b[0m\u001b[0;1;35mwarning: \u001b[0m\u001b[1mnull passed to a callee that requires a non-null argument [-Wnonnull]\u001b[0m\n",
      "    strcpy(str, \"hello world\"); \n",
      "\u001b[0;1;32m           ^~~\n",
      "\u001b[0m"
     ]
    },
    {
     "ename": "Interpreter Exception",
     "evalue": "",
     "output_type": "error",
     "traceback": [
      "Interpreter Exception: "
     ]
    }
   ],
   "source": [
    "void Test_1(void)\n",
    "{ \n",
    "    char *str = NULL; \n",
    "    GetMemory_1(str); \n",
    "    strcpy(str, \"hello world\"); \n",
    "    printf(\"%s\",str); \n",
    "}\n",
    "\n",
    "Test_1()"
   ]
  },
  {
   "cell_type": "markdown",
   "id": "c2721cc9-ea54-4303-b819-d74030f4979a",
   "metadata": {},
   "source": [
    "GetMemory的参数不能传递动态内存，因此str一直都是NULL，strcpy将导致程序崩溃。  \n",
    "解释：https://blog.csdn.net/wyw594/article/details/8438672  \n",
    "大意：编译器总是创建形参，_str = str，但随后分配地址导致 _str 指向地址改变，str 指针指向地址没变。所以参数不能传递内存地址，但可以使用返回值或者指针的指针传递。  "
   ]
  },
  {
   "cell_type": "code",
   "execution_count": 61,
   "id": "ebe5a690-6e75-4dd8-af18-28a38fda4ea4",
   "metadata": {},
   "outputs": [
    {
     "name": "stderr",
     "output_type": "stream",
     "text": [
      "\u001b[1minput_line_73:4:8: \u001b[0m\u001b[0;1;35mwarning: \u001b[0m\u001b[1maddress of stack memory associated with local variable 'p' returned [-Wreturn-stack-address]\u001b[0m\n",
      "return p; \n",
      "\u001b[0;1;32m       ^\n",
      "\u001b[0m"
     ]
    }
   ],
   "source": [
    "char *GetMemory_2(void) \n",
    "{ \n",
    "char p[] = \"hello world\"; \n",
    "return p; \n",
    "} "
   ]
  },
  {
   "cell_type": "code",
   "execution_count": 60,
   "id": "1fc250fc-5427-4d2d-af82-c27e648d515b",
   "metadata": {},
   "outputs": [],
   "source": [
    "void Test_2(void) \n",
    "{ \n",
    "char *str = NULL; \n",
    "str = GetMemory_2(); \n",
    "printf(\"%s\", str); \n",
    "}\n",
    "\n",
    "Test_2()"
   ]
  },
  {
   "cell_type": "markdown",
   "id": "5d474465-2b52-43c1-b876-1a3b03cb5cb3",
   "metadata": {},
   "source": [
    "GetMemory返回的是指向“栈内存”的指针，该指针地址不是NULL，但原先内容是局部变量已被清除，因此新内容不可知。"
   ]
  },
  {
   "cell_type": "code",
   "execution_count": 3,
   "id": "2b157f04-985c-4a99-9140-2931f0c8b3c3",
   "metadata": {},
   "outputs": [],
   "source": [
    "void GetMemory_3(char **p, int num) \n",
    "{ \n",
    "    *p = (char *)malloc(num); \n",
    "}"
   ]
  },
  {
   "cell_type": "code",
   "execution_count": 5,
   "id": "5b5db398-0d10-4426-bd70-b0a4112d1cc5",
   "metadata": {},
   "outputs": [
    {
     "name": "stdout",
     "output_type": "stream",
     "text": [
      "hello"
     ]
    }
   ],
   "source": [
    "void Test_3(void) \n",
    "{ \n",
    "    char *str = NULL; \n",
    "    GetMemory_3(&str, 100); \n",
    "    strcpy(str, \"hello\"); \n",
    "    printf(\"%s\", str); \n",
    "    free(str);\n",
    "}\n",
    "\n",
    "Test_3()"
   ]
  },
  {
   "cell_type": "markdown",
   "id": "8d4bfd42-066b-4f7b-88a9-40d0c71766dc",
   "metadata": {},
   "source": [
    "能输出 *str，但是没有Free这部分内存，因此会泄露。"
   ]
  },
  {
   "cell_type": "code",
   "execution_count": 1,
   "id": "692af7fd-adaf-4093-9c15-ea4f7c4af09f",
   "metadata": {},
   "outputs": [],
   "source": [
    "void Test4(void) \n",
    "{ \n",
    "    char *str = (char *) malloc(100);\n",
    "     strcpy(str, \"hello\"); \n",
    "     free(str); \n",
    "    str = NULL;\n",
    "    if(str != NULL) {\n",
    "        strcpy(str, \"world\"); \n",
    "        printf(\"%s\", str); \n",
    "    }\n",
    "}\n",
    "\n",
    "Test4()"
   ]
  },
  {
   "cell_type": "markdown",
   "id": "c4fbc973-57bf-48a5-ac6a-26c29a73217d",
   "metadata": {},
   "source": [
    "先释放了申请的内存，str成为野指针，又再次覆写，而 str != NULL 不起作用，应当手动赋值为 NULL。"
   ]
  },
  {
   "cell_type": "markdown",
   "id": "fe0d3eb7-4995-4e30-ad91-8896a313c956",
   "metadata": {},
   "source": [
    "第五题：编写 strcpy 函数。  \n",
    "已知 strcpy 原型：char *strcpy(char *strDest, const char *strSrc);  \n",
    "其中，strDest是目的字符串，strSrc是源字符串。"
   ]
  },
  {
   "cell_type": "markdown",
   "id": "8b9b7657-070b-403e-8299-70ee0035d8bb",
   "metadata": {},
   "source": [
    "(1) 不调用 C++/C 的字符串库函数，请编写函数 strcpy"
   ]
  },
  {
   "cell_type": "code",
   "execution_count": 15,
   "id": "180dca17-2dc6-45ce-b40f-f000de00b1c7",
   "metadata": {},
   "outputs": [
    {
     "name": "stdout",
     "output_type": "stream",
     "text": [
      "Hello, world!\n",
      "ABC\n",
      "Hello, world!\n"
     ]
    }
   ],
   "source": [
    "// 复制内容\n",
    "const char * strcpy(const char *strDest, const char *strSrc) {\n",
    "    strDest = strSrc;\n",
    "    return strDest;\n",
    "}\n",
    "\n",
    "const char *src = \"Hello, world!\";\n",
    "\n",
    "const char *dest = NULL;\n",
    "\n",
    "dest = strcpy(dest, src);\n",
    "// strcpy(dest, src); // 不赋值的话，dest 将是 NULL。\n",
    "\n",
    "// printf(\"%lu\\n\", sizeof(dest));\n",
    "\n",
    "printf(\"%s\\n\", dest);\n",
    "dest = \"ABC\";\n",
    "printf(\"%s\\n\", dest);\n",
    "printf(\"%s\\n\", src);"
   ]
  },
  {
   "cell_type": "markdown",
   "id": "53ae2777-cd85-4331-bfa0-f5fa374cd2e3",
   "metadata": {},
   "source": [
    "C++ 11 禁止将 const char[] 赋值给 char*，而应该使用 const char*。  \n",
    "\"Hello\" 是常量字符串，即 const char[]。"
   ]
  },
  {
   "cell_type": "code",
   "execution_count": 22,
   "id": "e60cca8f-708a-4fb4-9c2e-51794dd25c0b",
   "metadata": {},
   "outputs": [
    {
     "name": "stdout",
     "output_type": "stream",
     "text": [
      "HAA"
     ]
    }
   ],
   "source": [
    "// 官方答案：\n",
    "char * strcpy(char *strDest, const char* strSrc) {\n",
    "    assert((strDest != NULL) && (strSrc != NULL));\n",
    "    char *address = strDest;\n",
    "    while((*strDest++ = * strSrc++) != '\\0') { // 这个方法并没有修改指针地址，而是让每一个地址都覆盖一个char值。\n",
    "       NULL;\n",
    "    }\n",
    "    return address;\n",
    "}\n",
    "\n",
    "printf(\"%s\", strcpy(dest, src));"
   ]
  },
  {
   "cell_type": "markdown",
   "id": "5a32030d-3463-424a-a8d7-a201fe7a6962",
   "metadata": {},
   "source": [
    "(2) strcpy 能把strStc 的内容复制到 strDest，为何还要 char * 类型的返回值？"
   ]
  },
  {
   "cell_type": "markdown",
   "id": "a7f461dd-4821-4976-afd3-a6c117d78025",
   "metadata": {},
   "source": [
    "我答：因为形参内容“地址”改变，不影响实参。"
   ]
  },
  {
   "cell_type": "code",
   "execution_count": 20,
   "id": "3dc61d50-8dc1-48f2-aca0-a9d051c84ce5",
   "metadata": {},
   "outputs": [
    {
     "name": "stdout",
     "output_type": "stream",
     "text": [
      "11"
     ]
    }
   ],
   "source": [
    "// 官方答案：为了实现链式表达式：\n",
    "int length = strlen(strcpy(dest, \"Hello world\"));\n",
    "printf(\"%d\", length);"
   ]
  },
  {
   "cell_type": "code",
   "execution_count": 16,
   "id": "243c4683-793b-44fe-bae3-3db2d7e88062",
   "metadata": {},
   "outputs": [
    {
     "name": "stdout",
     "output_type": "stream",
     "text": [
      "Hello world\n",
      "HAA\n"
     ]
    }
   ],
   "source": [
    "// 测试\n",
    "const char *src = \"Hello world\";\n",
    "printf(\"%s\\n\", src);\n",
    "src = \"HAA\";\n",
    "printf(\"%s\\n\", src);"
   ]
  },
  {
   "cell_type": "markdown",
   "id": "b6a86c8a-6af0-44fe-92aa-301208b785ea",
   "metadata": {},
   "source": [
    "第六题：编写String类的构造函数、析构函数和赋值函数"
   ]
  },
  {
   "cell_type": "code",
   "execution_count": 35,
   "id": "aca76d73-64b5-4b4a-bc44-4ccd5a089a6e",
   "metadata": {},
   "outputs": [],
   "source": [
    "class String {\n",
    "    private:\n",
    "        char *m_data;                     // 用于保存字符串\n",
    "    \n",
    "    public:\n",
    "        String(const char *str = NULL)  // 普通构造函数\n",
    "        {\n",
    "            if(str==NULL) {\n",
    "                m_data = new char[1];\n",
    "                *m_data = '\\0';\n",
    "            } else {\n",
    "                int length = strlen(str);\n",
    "                m_data = new char[length+1];\n",
    "                strcpy(m_data, str);\n",
    "            }\n",
    "        }\n",
    "    \n",
    "        String(const String &other)     // 拷贝构造函数\n",
    "        {\n",
    "            int length = strlen(other.m_data);\n",
    "            m_data = new char[length+1];\n",
    "            strcpy(m_data, other.m_data);\n",
    "        }\n",
    "    \n",
    "        ~ String(void)                  // 析构函数\n",
    "        {\n",
    "            delete [] m_data;\n",
    "        }\n",
    "    \n",
    "        String& operator = (const String &other) // 赋值函数\n",
    "        {\n",
    "            if(this == &other) {\n",
    "                return * this;\n",
    "            }\n",
    "            delete [] m_data;\n",
    "            int length = strlen(other.m_data);\n",
    "            m_data = new char[length+1];\n",
    "            strcpy(m_data, other.m_data);\n",
    "            \n",
    "            return *this;\n",
    "        }\n",
    "    \n",
    "        int length() {\n",
    "            return sizeof(m_data) -1;\n",
    "        }\n",
    "    \n",
    "        char * c_str() {\n",
    "            return m_data;\n",
    "        }\n",
    "    \n",
    "        // // 重写输出<< 操作符\n",
    "        // friend std::ostream& operator<<(std::ostream& os,const String& that){\n",
    "        //     os << that.m_data;\n",
    "        //     return os;\n",
    "        // }\n",
    "        // // 重写输入>> 操作符\n",
    "        // friend std::istream& operator>>(std::istream& is,const String& that){\n",
    "        //     is >> that.m_data;\n",
    "        //     return is;\n",
    "        // }\n",
    "}\n"
   ]
  },
  {
   "cell_type": "code",
   "execution_count": 32,
   "id": "38de6f35-5720-4da2-8b1b-9ffa9255dd58",
   "metadata": {},
   "outputs": [
    {
     "name": "stderr",
     "output_type": "stream",
     "text": [
      "\u001b[1minput_line_38:3:14: \u001b[0m\u001b[0;1;35mwarning: \u001b[0m\u001b[1mformat specifies type 'char *' but the argument has type '__cling_N530::String *' [-Wformat]\u001b[0m\n",
      "printf(\"%s\", s);\n",
      "\u001b[0;1;32m        ~~   ^\n",
      "\u001b[0m"
     ]
    }
   ],
   "source": [
    "String *s = new String(\"Hello\");\n",
    "printf(\"%s\", s);"
   ]
  }
 ],
 "metadata": {
  "kernelspec": {
   "display_name": "C++11",
   "language": "C++11",
   "name": "xcpp11"
  },
  "language_info": {
   "codemirror_mode": "text/x-c++src",
   "file_extension": ".cpp",
   "mimetype": "text/x-c++src",
   "name": "c++",
   "version": "11"
  }
 },
 "nbformat": 4,
 "nbformat_minor": 5
}
