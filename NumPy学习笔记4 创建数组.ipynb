{
 "cells": [
  {
   "cell_type": "markdown",
   "id": "ecf7459f",
   "metadata": {},
   "source": [
    "# NumPy 创建数组\n",
    "\n",
    "除了通过底层 ndarray 构造器（即 np.array ）来创建数组，也可通过其他几种方式快速创建：\n",
    "\n",
    "arange, array, copy, empty, empty_like, eye, fromfile, fromfunction, identity, linspace, logspace, mgrid, ogrid, ones, ones_like, r_, zeros, zeros_like\n"
   ]
  },
  {
   "cell_type": "markdown",
   "id": "3c884b4d",
   "metadata": {},
   "source": [
    "## numpy.arange\n",
    "\n",
    "numpy.arange 方法创建一个一维数组：\n",
    "\n",
    "```python\n",
    "numpy.arange(length) # 创建一个从0开始长度为length的一维数组\n",
    "numpy.arange(start, end, step = 1, dtype) # 创建一个从start到end（不包括end），间隔为 step 的数组\n",
    "```\n",
    "\n",
    "* dtype 默认类型为输入数据的类型"
   ]
  },
  {
   "cell_type": "code",
   "execution_count": 16,
   "id": "fb97762c",
   "metadata": {},
   "outputs": [
    {
     "name": "stdout",
     "output_type": "stream",
     "text": [
      "[0 1 2 3 4 5 6 7 8 9]\n",
      "[1 3 5 7 9]\n"
     ]
    }
   ],
   "source": [
    "import numpy as np\n",
    "x = np.arange(10)\n",
    "print(x)\n",
    "y = np.arange(1, 10, 2)\n",
    "print(y)"
   ]
  },
  {
   "cell_type": "markdown",
   "id": "dfd80686",
   "metadata": {},
   "source": [
    "## numpy.linspace\n",
    "\n",
    "生成等差数列。与 arange 不同之处在于，arange 指定步长，因此对于 float 无法准确得知生成元素的数量；linspace 则指定获得元素的数量：\n",
    "\n",
    "```python\n",
    "numpy.linspace(start, stop, num=50, endpoint=True, retstep=False, dtype=None)\n",
    "```\n",
    "\n",
    "|参数|描述|\n",
    "|----|----|\n",
    "|start|序列起始值|\n",
    "|stop|序列终止值，若 endpoint为 True，则该值包含于数列|\n",
    "|num|要生成的等步长的样本数量，默认50|\n",
    "|endpoint|该值为True，数列包含stop值，反之不包含，默认 True|\n",
    "|retstep|若为 True，生成数组会显示差距，反之不显示|\n",
    "|dtype|类型|"
   ]
  },
  {
   "cell_type": "code",
   "execution_count": 47,
   "id": "56df65be",
   "metadata": {
    "ExecuteTime": {
     "end_time": "2021-10-07T06:41:11.678915Z",
     "start_time": "2021-10-07T06:41:11.667910Z"
    }
   },
   "outputs": [
    {
     "name": "stdout",
     "output_type": "stream",
     "text": [
      "[0.   0.25 0.5  0.75 1.   1.25 1.5  1.75 2.  ]\n",
      "[0.         0.6981317  1.3962634  2.0943951  2.7925268  3.4906585\n",
      " 4.1887902  4.88692191 5.58505361 6.28318531]\n",
      "[0.         0.24740396 0.47942554 0.68163876 0.84147098 0.94898462\n",
      " 0.99749499 0.98398595 0.90929743]\n",
      "[ 1.  2.  3.  4.  5.  6.  7.  8.  9. 10.]\n",
      "[1. 1. 1. 1. 1. 1. 1. 1. 1. 1.]\n",
      "[10. 12. 14. 16. 18.]\n",
      "[10.  12.5 15.  17.5 20. ]\n",
      "(array([ 1.,  2.,  3.,  4.,  5.,  6.,  7.,  8.,  9., 10.]), 1.0)\n",
      "[[ 1.]\n",
      " [ 2.]\n",
      " [ 3.]\n",
      " [ 4.]\n",
      " [ 5.]\n",
      " [ 6.]\n",
      " [ 7.]\n",
      " [ 8.]\n",
      " [ 9.]\n",
      " [10.]]\n"
     ]
    }
   ],
   "source": [
    "from numpy import pi\n",
    "x = np.linspace(0, 2, 9)\n",
    "print(x)\n",
    "\n",
    "y = np.linspace(0, 2 * pi, 10)\n",
    "print(y)\n",
    "\n",
    "z = np.sin(x)\n",
    "print(z)\n",
    "\n",
    "a = np.linspace(1,10,10)\n",
    "print(a)\n",
    "\n",
    "# 也可以生成全部一样的数列\n",
    "b = np.linspace(1,1,10)\n",
    "print(b)\n",
    "\n",
    "# 不包含终止值\n",
    "c = np.linspace(10, 20, 5, endpoint=False)\n",
    "print(c)\n",
    "\n",
    "# 包含终止值\n",
    "d = np.linspace(10,20,5)\n",
    "print(d)\n",
    "\n",
    "# 设置显示间距\n",
    "e = np.linspace(1,10,10,retstep=True)\n",
    "print(e)\n",
    "f = np.linspace(1,10,10).reshape([10,1])\n",
    "print(f)"
   ]
  },
  {
   "cell_type": "markdown",
   "id": "e9e14ce9",
   "metadata": {},
   "source": [
    "## numpy.logspace\n",
    "\n",
    "numpy.logspace 函数用于创建等比数列。\n",
    "```python\n",
    "numpy.logspace(start, stop, num=50, endpoint=True, base=10.0, dtype=None)\n",
    "```\n",
    "\n",
    "|参数|描述|\n",
    "|----|----|\n",
    "|start|序列的起始值为：base\\*\\*start |\n",
    "|stop|序列的终止值为：base\\*\\*stop。如果 endpoint 为 true，该值包含于数列中 |\n",
    "|num|要生成的等步长的样本数量，默认50|\n",
    "|endpoint|默认True|\n",
    "|base|对数log底数|\n",
    "|dtype|ndarray的数据类型|"
   ]
  },
  {
   "cell_type": "code",
   "execution_count": 53,
   "id": "b3e0a081",
   "metadata": {
    "ExecuteTime": {
     "end_time": "2021-10-07T06:48:49.398870Z",
     "start_time": "2021-10-07T06:48:49.371839Z"
    }
   },
   "outputs": [
    {
     "name": "stdout",
     "output_type": "stream",
     "text": [
      "[ 10.          12.91549665  16.68100537  21.5443469   27.82559402\n",
      "  35.93813664  46.41588834  59.94842503  77.42636827 100.        ]\n",
      "[  2   4   8  16  32  64 128 256]\n"
     ]
    }
   ],
   "source": [
    "# 从 10 到 100，等比分10个数\n",
    "a=np.logspace(1.0, 2.0, num = 10)\n",
    "print(a)\n",
    "\n",
    "# 将底数设置为2：\n",
    "b=np.logspace(1.0, 8.0, num = 8, base = 2.0, dtype=int)\n",
    "print(b)"
   ]
  },
  {
   "cell_type": "markdown",
   "id": "bd4107f1",
   "metadata": {},
   "source": [
    "\n",
    "## numpy.empty\n",
    "\n",
    "numpy.empty 方法用来创建一个指定形状（shape）、数据类型（dtype）且<b>未初始化</b>的数组：\n",
    "\n",
    "```python\n",
    "numpy.empty(shape, dtype = float, order = 'C')\n",
    "```\n",
    "\n",
    "#### 参数说明：\n",
    "\n",
    "|参数|描述|\n",
    "|----|----|\n",
    "|shape|数组形状|\n",
    "|dtype|数据类型，可选|\n",
    "|order|有\"C\"和\"F\"两个选项，分别代表“行优先”和“列优先”，在计算机内存中存储元素的顺序|\n",
    "\n",
    "创建空数组的实例：\n",
    "\n"
   ]
  },
  {
   "cell_type": "code",
   "execution_count": 3,
   "id": "67ad74a8",
   "metadata": {},
   "outputs": [
    {
     "name": "stdout",
     "output_type": "stream",
     "text": [
      "[[7012460 7602281]\n",
      " [4391004 4456533]\n",
      " [6029377 3211382]]\n"
     ]
    }
   ],
   "source": [
    "import numpy as np\n",
    "x = np.empty([3,2], dtype=int) # 可见shape值可以为元组或数组，只要是一维就行\n",
    "print(x) # 尚未初始化，故元素为随机值"
   ]
  },
  {
   "cell_type": "markdown",
   "id": "131a8d98",
   "metadata": {},
   "source": [
    "## numpy.zeros\n",
    "\n",
    "创建指定大小的数组，数组元素以0填充：\n",
    "\n",
    "```python\n",
    "numpy.zeros(shape, dtype = float, order = 'C')\n",
    "```"
   ]
  },
  {
   "cell_type": "code",
   "execution_count": 7,
   "id": "a4cb4fa4",
   "metadata": {},
   "outputs": [
    {
     "name": "stdout",
     "output_type": "stream",
     "text": [
      "[0. 0. 0. 0. 0.]\n",
      "[0 0 0 0 0]\n",
      "[[(0, 0) (0, 0)]\n",
      " [(0, 0) (0, 0)]]\n"
     ]
    }
   ],
   "source": [
    "# 默认浮点数\n",
    "x = np.zeros(5)\n",
    "print(x)\n",
    "\n",
    "# 设置为整数\n",
    "y = np.zeros((5,), dtype = int)\n",
    "print(y)\n",
    "\n",
    "# 自定义类型\n",
    "z = np.zeros((2,2), dtype = [('x','i4'),('y','i4')])\n",
    "print(z)"
   ]
  },
  {
   "cell_type": "markdown",
   "id": "66651d60",
   "metadata": {},
   "source": [
    "## numpy.ones\n",
    "\n",
    "创建指定形状的数组，数组元素以1来填充：\n",
    "```python\n",
    "numpy.ones(shape, dtype = None, order = 'C')\n",
    "```"
   ]
  },
  {
   "cell_type": "code",
   "execution_count": 10,
   "id": "3bdd5eed",
   "metadata": {},
   "outputs": [
    {
     "name": "stdout",
     "output_type": "stream",
     "text": [
      "[1. 1. 1. 1. 1.]\n",
      "[[1 1]\n",
      " [1 1]]\n"
     ]
    }
   ],
   "source": [
    "# 默认为浮点数\n",
    "x = np.ones(5)\n",
    "print(x)\n",
    "\n",
    "# 自定义类型\n",
    "x = np.ones([2,2], dtype = int)\n",
    "print(x)"
   ]
  },
  {
   "cell_type": "markdown",
   "id": "4d01490a",
   "metadata": {},
   "source": [
    "## numpy.eye\n",
    "\n",
    "创建对角矩阵\n",
    "```python\n",
    "np.eye(N, M=None, k=0, dtype=<class 'float'>, order='C', *, like=None)\n",
    "```\n",
    "\n",
    "|参数|说明|\n",
    "|----|----|\n",
    "|N:int|输出的行数|\n",
    "|M:int|输出的列数，默认N|\n",
    "|k:int|对角线的下标，默认0表示主对角线。负数表示低对角，正数表示高对角|\n",
    "|dtype|数据类型|\n",
    "|order|C或F，行优先或列优先|"
   ]
  },
  {
   "cell_type": "code",
   "execution_count": 21,
   "id": "67aafa4c",
   "metadata": {
    "ExecuteTime": {
     "end_time": "2021-10-07T06:03:26.540639Z",
     "start_time": "2021-10-07T06:03:26.522648Z"
    },
    "scrolled": true
   },
   "outputs": [
    {
     "name": "stdout",
     "output_type": "stream",
     "text": [
      "[[0 1 0 0 0]\n",
      " [0 0 1 0 0]\n",
      " [0 0 0 1 0]]\n"
     ]
    }
   ],
   "source": [
    "x = np.eye(3,5,1,int)\n",
    "print(x)"
   ]
  },
  {
   "cell_type": "markdown",
   "id": "c6a75757",
   "metadata": {
    "ExecuteTime": {
     "end_time": "2021-10-07T06:03:54.304099Z",
     "start_time": "2021-10-07T06:03:54.292100Z"
    }
   },
   "source": [
    "## numpy.identity\n",
    "\n",
    "与 eye 的区别是只能创建方阵。\n",
    "```python\n",
    "numpy.identity(n, dtype=None)\n",
    "```\n",
    "|参数|说明|\n",
    "|----|----|\n",
    "|n：int|表示输出矩阵的行列数|"
   ]
  },
  {
   "cell_type": "code",
   "execution_count": 24,
   "id": "3eda54e6",
   "metadata": {
    "ExecuteTime": {
     "end_time": "2021-10-07T06:06:57.844407Z",
     "start_time": "2021-10-07T06:06:57.827377Z"
    },
    "scrolled": true
   },
   "outputs": [
    {
     "name": "stdout",
     "output_type": "stream",
     "text": [
      "[[1 0 0 0 0 0 0]\n",
      " [0 1 0 0 0 0 0]\n",
      " [0 0 1 0 0 0 0]\n",
      " [0 0 0 1 0 0 0]\n",
      " [0 0 0 0 1 0 0]\n",
      " [0 0 0 0 0 1 0]\n",
      " [0 0 0 0 0 0 1]]\n"
     ]
    }
   ],
   "source": [
    "x = np.identity(7, int)\n",
    "print(x)"
   ]
  },
  {
   "cell_type": "markdown",
   "id": "dc823265",
   "metadata": {},
   "source": [
    "## numpy.random.random\n",
    "\n",
    "从属于random模块，创建 \\[0.0，1.0) 之间的随机浮点数\n",
    "\n",
    "```python\n",
    "numpy.random.random() # 创建一个随机数\n",
    "numpy.random.random(shape) # 创建随机数组\n",
    "```"
   ]
  },
  {
   "cell_type": "code",
   "execution_count": 7,
   "id": "1bbd02fd",
   "metadata": {
    "ExecuteTime": {
     "end_time": "2021-10-07T05:56:47.541875Z",
     "start_time": "2021-10-07T05:56:47.522876Z"
    }
   },
   "outputs": [
    {
     "name": "stdout",
     "output_type": "stream",
     "text": [
      "0.13474251973304263\n",
      "[[0.93598205 0.51567319 0.76946461]\n",
      " [0.58779321 0.78807939 0.93130647]]\n"
     ]
    }
   ],
   "source": [
    "# 获取一个 [0.0,1.0) 随机数\n",
    "x= np.random.random()\n",
    "print(x)\n",
    "\n",
    "# 获取一个元素全为(-1,1)的随机数组\n",
    "y = np.random.random((2,3))\n",
    "print(y)"
   ]
  },
  {
   "cell_type": "markdown",
   "id": "e1c23ad6",
   "metadata": {},
   "source": [
    "# 从已有数组创建数组"
   ]
  },
  {
   "cell_type": "markdown",
   "id": "eb22a1b8",
   "metadata": {},
   "source": [
    "## numpy.asarray\n",
    "\n",
    "从已有数组创建新数组。\n",
    "\n",
    "```python\n",
    "numpy.asarray(a, dtype=None, order=None)\n",
    "```\n",
    "\n",
    "a 可以是列表、列表的元组、元组、元组的元组、元组的列表、多维数组"
   ]
  },
  {
   "cell_type": "code",
   "execution_count": 28,
   "id": "1ef6063c",
   "metadata": {
    "ExecuteTime": {
     "end_time": "2021-10-07T06:15:27.673322Z",
     "start_time": "2021-10-07T06:15:27.651185Z"
    },
    "scrolled": true
   },
   "outputs": [
    {
     "name": "stdout",
     "output_type": "stream",
     "text": [
      "[1 2 3]\n",
      "[1 2 3]\n",
      "[(1, 2, 3) (4, 5)]\n"
     ]
    }
   ],
   "source": [
    "x = [1, 2, 3]\n",
    "a = np.asarray(x)\n",
    "print(a)\n",
    "\n",
    "y = (1, 2, 3)\n",
    "b = np.asarray(y)\n",
    "print(b)\n",
    "\n",
    "z = [(1, 2, 3), (4, 5)]  # 注：这种元组元素数量不一致的情况已过时，必须指定 dtype=object\n",
    "c = np.asarray(z)\n",
    "print(c)"
   ]
  },
  {
   "cell_type": "markdown",
   "id": "a00f974e",
   "metadata": {},
   "source": [
    "## numpy.frombuffer\n",
    "\n",
    "用于实现动态数组。\n",
    "接受 buffer 参数，以流的形式读入转化成 ndarray 对象。\n",
    "\n",
    "```python\n",
    "numpy.frombuffer(buffer, dtype=float, count=-1, offset=0)\n",
    "```\n",
    "\n",
    "注意：buffer 是字符串时，Python3 默认 str 为 Unicode 类型，故要转成 bytestring 在原str前加上b。\n",
    "\n",
    "* buffer：可以是任意对象，会以流的形式读入。\n",
    "* count：读取的数据数量，默认为-1，读取所有数据。\n",
    "* offset：读取的起始位置，默认为0。"
   ]
  },
  {
   "cell_type": "code",
   "execution_count": 34,
   "id": "6239c46a",
   "metadata": {
    "ExecuteTime": {
     "end_time": "2021-10-07T06:25:49.810234Z",
     "start_time": "2021-10-07T06:25:49.796201Z"
    }
   },
   "outputs": [
    {
     "name": "stdout",
     "output_type": "stream",
     "text": [
      "[b'H' b'e' b'l' b'l' b'o' b' ' b'W' b'o' b'r' b'l' b'd']\n"
     ]
    }
   ],
   "source": [
    "# python3.x\n",
    "s = b'Hello World'\n",
    "a = np.frombuffer(s, dtype='S1')\n",
    "print(a)\n",
    "\n",
    "# python2.x\n",
    "# s2 = 'Hello World'\n",
    "# b = np.frombuffer(s2, dtype='S1')\n",
    "# print(b)"
   ]
  },
  {
   "cell_type": "markdown",
   "id": "48619522",
   "metadata": {},
   "source": [
    "## numpy.fromiter\n",
    "\n",
    "从可迭代对象中建立 ndarray 对象，返回一维数组。\n",
    "\n",
    "```python\n",
    "numpy.fromiter(itereable, dtype, count = -1)\n",
    "```"
   ]
  },
  {
   "cell_type": "code",
   "execution_count": 35,
   "id": "62e94bf6",
   "metadata": {
    "ExecuteTime": {
     "end_time": "2021-10-07T06:28:16.927691Z",
     "start_time": "2021-10-07T06:28:16.915728Z"
    }
   },
   "outputs": [
    {
     "name": "stdout",
     "output_type": "stream",
     "text": [
      "[0. 1. 2. 3. 4.]\n"
     ]
    }
   ],
   "source": [
    "# 使用 range 函数创建列表对象\n",
    "list=range(5)\n",
    "it=iter(list)\n",
    "\n",
    "# 使用迭代器创建 ndarray\n",
    "x=np.fromiter(it, dtype=float)\n",
    "print(x)"
   ]
  }
 ],
 "metadata": {
  "kernelspec": {
   "display_name": "LearnNumpy",
   "language": "python",
   "name": "learn_numpy"
  },
  "language_info": {
   "codemirror_mode": {
    "name": "ipython",
    "version": 3
   },
   "file_extension": ".py",
   "mimetype": "text/x-python",
   "name": "python",
   "nbconvert_exporter": "python",
   "pygments_lexer": "ipython3",
   "version": "3.9.7"
  },
  "toc": {
   "base_numbering": 1,
   "nav_menu": {},
   "number_sections": true,
   "sideBar": true,
   "skip_h1_title": false,
   "title_cell": "Table of Contents",
   "title_sidebar": "Contents",
   "toc_cell": false,
   "toc_position": {},
   "toc_section_display": true,
   "toc_window_display": false
  },
  "varInspector": {
   "cols": {
    "lenName": 16,
    "lenType": 16,
    "lenVar": 40
   },
   "kernels_config": {
    "python": {
     "delete_cmd_postfix": "",
     "delete_cmd_prefix": "del ",
     "library": "var_list.py",
     "varRefreshCmd": "print(var_dic_list())"
    },
    "r": {
     "delete_cmd_postfix": ") ",
     "delete_cmd_prefix": "rm(",
     "library": "var_list.r",
     "varRefreshCmd": "cat(var_dic_list()) "
    }
   },
   "types_to_exclude": [
    "module",
    "function",
    "builtin_function_or_method",
    "instance",
    "_Feature"
   ],
   "window_display": false
  }
 },
 "nbformat": 4,
 "nbformat_minor": 5
}
